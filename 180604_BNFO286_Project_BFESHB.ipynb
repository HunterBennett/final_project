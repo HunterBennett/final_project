{
 "cells": [
  {
   "cell_type": "markdown",
   "metadata": {},
   "source": [
    "# Personalized GWAP (Genome wide association & PageRank)\n",
    "____\n",
    "This python notebook walks through our implementation of the Personalized PageRank algorithm for the analysis of genome wide association studies using gene-gene networks.  \n",
    "\n",
    "This was developed by Bethany Fixsen, Erica Silva, and Hunter Bennett"
   ]
  },
  {
   "cell_type": "code",
   "execution_count": 1,
   "metadata": {},
   "outputs": [],
   "source": [
    "# import modules\n",
    "import os\n",
    "import time\n",
    "import numpy as np\n",
    "import pandas as pd\n",
    "import matplotlib.pyplot as plt\n",
    "import networkx as nx\n",
    "from ndex.networkn import NdexGraph\n",
    "from sklearn.metrics import average_precision_score, precision_recall_curve\n",
    "from sklearn.model_selection import train_test_split\n",
    "\n",
    "%matplotlib inline"
   ]
  },
  {
   "cell_type": "markdown",
   "metadata": {},
   "source": [
    "set working directory"
   ]
  },
  {
   "cell_type": "code",
   "execution_count": 2,
   "metadata": {},
   "outputs": [],
   "source": [
    "workingDir = '/home/h1bennet/final_project/'\n",
    "os.chdir(workingDir)"
   ]
  },
  {
   "cell_type": "markdown",
   "metadata": {},
   "source": [
    "# Part 1: SNP/Gene Mapping within TADs\n",
    "_______\n",
    "The pipeline for mapping snps and genes within TADs was developed by Bethany Fixsen.  \n",
    "\n",
    "cortical plate TADs: https://www.ncbi.nlm.nih.gov/geo/query/acc.cgi?acc=GSE77565 (GSE77565_CP_TAD.bed.gz)  \n",
    "SNPs and genes were hg18 and TADs were mapped to hg19. Therefore, I used UCSC 'liftover' to convert the TAD coordinates to hg18 assembly. The lifted-over file is called GSE77565_hg18.bed. "
   ]
  },
  {
   "cell_type": "code",
   "execution_count": 3,
   "metadata": {},
   "outputs": [],
   "source": [
    "# import tad file\n",
    "tads = pd.read_csv('./data/GSE77565_hg18.bed',\n",
    "                   delim_whitespace = True, header=None,\n",
    "                   names=['chr', 'start', 'end', 'id'])\n",
    "# import snps file\n",
    "snps = pd.read_csv('./data/snp_level_summary_stats_pmid_25056061.txt',\n",
    "                   delim_whitespace=True)\n",
    "#match hg18 column id\n",
    "snps['hg18chr'] = 'chr'+snps['hg18chr'].astype(str)"
   ]
  },
  {
   "cell_type": "markdown",
   "metadata": {},
   "source": [
    "### Plot tad size distribution"
   ]
  },
  {
   "cell_type": "code",
   "execution_count": 4,
   "metadata": {},
   "outputs": [],
   "source": [
    "size = tads.end - tads.start"
   ]
  },
  {
   "cell_type": "code",
   "execution_count": 5,
   "metadata": {},
   "outputs": [
    {
     "data": {
      "text/plain": [
       "<matplotlib.text.Text at 0x7f74cdb5a588>"
      ]
     },
     "execution_count": 5,
     "metadata": {},
     "output_type": "execute_result"
    },
    {
     "data": {
      "image/png": "[encoded data removed]",
      "text/plain": [
       "<matplotlib.figure.Figure at 0x7f74dd8b6438>"
      ]
     },
     "metadata": {},
     "output_type": "display_data"
    }
   ],
   "source": [
    "plt.hist(np.log10(size))\n",
    "plt.xlabel('log10 TAD size')\n",
    "plt.ylabel('count')"
   ]
  },
  {
   "cell_type": "markdown",
   "metadata": {},
   "source": [
    "### Save snps in the bed format"
   ]
  },
  {
   "cell_type": "code",
   "execution_count": 6,
   "metadata": {},
   "outputs": [],
   "source": [
    "snps.loc[:, ['hg18chr', 'bp', 'bp', 'snpid', 'pval']]\\\n",
    "    .to_csv('./data/snp_level_summary_stats_pmid_25056061.bed', header=None,\n",
    "            index=None, sep='\\t')"
   ]
  },
  {
   "cell_type": "markdown",
   "metadata": {},
   "source": [
    "### Intersect SNPS and geneswith each individual TAD"
   ]
  },
  {
   "cell_type": "code",
   "execution_count": 7,
   "metadata": {},
   "outputs": [],
   "source": [
    "%%bash\n",
    "# TAD gene intersect\n",
    "bedtools intersect -a ./data/GSE77565_hg18.bed -b ./data/gene_bed_df.bed -wa -wb > ./results/TAD_gene_intersect_06062018.bed\n",
    "# Tad SNP intersect\n",
    "bedtools intersect -a ./data/snp_level_summary_stats_pmid_25056061.bed -b ./data/GSE77565_hg18.bed -wa -wb > ./results/SNP_TAD_overlap_06062018.bed"
   ]
  },
  {
   "cell_type": "markdown",
   "metadata": {},
   "source": [
    "### Import intersections back into pandas"
   ]
  },
  {
   "cell_type": "code",
   "execution_count": 8,
   "metadata": {},
   "outputs": [],
   "source": [
    "tad_gene = pd.read_csv('./results/TAD_gene_intersect_06062018.bed',\n",
    "                       delim_whitespace=True, header=None,\n",
    "                       names=['tad_chr', 'tad_start', 'tad_end',\n",
    "                              'tad_id', 'gene_chr', 'gene_start',\n",
    "                              'gene_end', 'gene_id'])\n"
   ]
  },
  {
   "cell_type": "code",
   "execution_count": 9,
   "metadata": {},
   "outputs": [],
   "source": [
    "tad_snp = pd.read_csv('./results/SNP_TAD_overlap_06062018.bed',\n",
    "                      delim_whitespace=True, header=None,\n",
    "                      names=['snp_chr', 'snp_start', 'snp_end',\n",
    "                             'snp_id', 'snp_pval', 'tad_chr',\n",
    "                             'tad_start', 'tad_end', 'tad_id'])"
   ]
  },
  {
   "cell_type": "markdown",
   "metadata": {},
   "source": [
    "### Iterate over TADs, writing SNPs within TAD and Genes within TAD to individual bed files for use in bedtools"
   ]
  },
  {
   "cell_type": "code",
   "execution_count": 10,
   "metadata": {},
   "outputs": [],
   "source": [
    "#grouping SNPs by TADs\n",
    "grouped_SNP = tad_snp.groupby('tad_id')\n",
    "\n",
    "#grouping genes by TADs \n",
    "grouped_gene = tad_gene.groupby('tad_id')"
   ]
  },
  {
   "cell_type": "code",
   "execution_count": 11,
   "metadata": {},
   "outputs": [],
   "source": [
    "if not os.path.exists('./results/tad_gene/'):\n",
    "    os.mkdir('./results/tad_gene/')\n",
    "\n",
    "if not os.path.exists('./results/tad_snp/'):\n",
    "    os.mkdir('./results/tad_snp/')\n",
    "\n",
    "#Separating TADs with the genes they contain. Also separating TADs with the SNPs they contain\n",
    "for name, group in grouped_gene: \n",
    "    tmp_group = group.loc[:, ['gene_chr', 'gene_start', 'gene_end', 'gene_id']]\n",
    "    tmp_group.sort_values(by=['gene_chr', 'gene_start'], inplace=True)\n",
    "    tmp_group.to_csv('./results/tad_gene/TAD'+str(int(name))+'.bed',\n",
    "                     sep='\\t', index=False, header=False)\n",
    "    \n",
    "    tmp_snp = grouped_SNP.get_group(int(name))\\\n",
    "        .loc[:, ['snp_chr', 'snp_start', 'snp_end', 'snp_id', 'snp_pval']]\n",
    "    tmp_snp.sort_values(by=['snp_chr', 'snp_start'], inplace=True)\n",
    "    tmp_snp.to_csv('./results/tad_snp/TAD'+str(int(name))+'.bed',\n",
    "                   sep='\\t', index=False, header=False)   \n"
   ]
  },
  {
   "cell_type": "markdown",
   "metadata": {},
   "source": [
    "### Use bedtools closest to match closest snp to gene"
   ]
  },
  {
   "cell_type": "code",
   "execution_count": 12,
   "metadata": {},
   "outputs": [],
   "source": [
    "%%bash\n",
    "if [ ! -d ./results/tad_closest/ ]; then mkdir ./results/tad_closest; fi\n",
    "\n",
    "for gene_bed in ./results/tad_gene/*;\n",
    "do snp_bed=${gene_bed/tad_gene/tad_snp};\n",
    "# snp_sort=${snp_bed/.bed/_sorted.bed}\n",
    "# gene_sort=${gene_bed/.bed/_sorted.bed}\n",
    "output_bed=${gene_bed/tad_gene/tad_closest}\n",
    "\n",
    "# bedtools sort -chrThenSizeA -i $snp_bed > $snp_sort\n",
    "# bedtools sort -chrThenSizeA -i $gene_bed > $gene_sort\n",
    "\n",
    "bedtools closest -a $snp_bed -b $gene_bed -D a > $output_bed\n",
    "done;\n",
    "\n",
    "# method one for mapping - pick lowest, closest gene\n",
    "rm ./results/tad_closest/gene_tad_mapping.bed\n",
    "cat ./results/tad_closest/* > ./results/tad_closest/gene_tad_mapping.bed"
   ]
  },
  {
   "cell_type": "markdown",
   "metadata": {},
   "source": [
    "### Import bedtools gene_tad_mapping"
   ]
  },
  {
   "cell_type": "code",
   "execution_count": 13,
   "metadata": {},
   "outputs": [],
   "source": [
    "gene_snp_tad = pd.read_csv('./results/tad_closest/gene_tad_mapping.bed',\n",
    "                           delim_whitespace=True,\n",
    "                           names=['snp_chr', 'snp_start',\n",
    "                                  'snp_end', 'snp_id',\n",
    "                                  'snp_pval', 'gene_chr',\n",
    "                                  'gene_start', 'gene_end',\n",
    "                                  'gene_id', 'distance'])\n",
    "gene_snp_tad['distance'] = np.abs(gene_snp_tad['distance'])\n",
    "gene_to_snp = gene_snp_tad.iloc[:, :].groupby('gene_id')"
   ]
  },
  {
   "cell_type": "markdown",
   "metadata": {},
   "source": [
    "### Assign snp p value to genes.\n",
    "_____  \n",
    "We use two approaches here: \n",
    "* Pick closest snp to gene (ties broken by lowest p value)\n",
    "* Pick lowest p value within 10kb WITHIN TAD"
   ]
  },
  {
   "cell_type": "code",
   "execution_count": 14,
   "metadata": {},
   "outputs": [],
   "source": [
    "# initialize score dicts\n",
    "SNP_gene_dict = {}\n",
    "for gene, frame in gene_to_snp:\n",
    "    #print(gene)\n",
    "    # select closest gene, most sig p value if there is a tie\n",
    "    min_dist = frame.distance.min()\n",
    "    min_entries = frame.loc[frame.distance == min_dist, :]\n",
    "    #print(min_entries)\n",
    "    #print(min_dist)\n",
    "    # select most significant p value within 10kb but within tad\n",
    "    min_entries_10kb = frame.loc[frame.distance <= 10**5, :]\n",
    "    SNP_gene_dict[gene] = (min_entries.snp_pval.min(),\n",
    "                           min_entries_10kb.snp_pval.min())\n",
    "    #print(min_entries.snp_pval.min())\n",
    "    #print(min_entries_10kb.snp_pval.min())\n",
    "\n",
    "tad_snp_map = pd.DataFrame(SNP_gene_dict,\n",
    "                           index=['closest', 'min_10kb']).T\n"
   ]
  },
  {
   "cell_type": "code",
   "execution_count": 15,
   "metadata": {},
   "outputs": [
    {
     "data": {
      "text/plain": [
       "(12710, 2)"
      ]
     },
     "execution_count": 15,
     "metadata": {},
     "output_type": "execute_result"
    }
   ],
   "source": [
    "tad_snp_map.shape"
   ]
  },
  {
   "cell_type": "markdown",
   "metadata": {},
   "source": [
    "### merge our snp-gene pairings with the ones provided in class\n",
    "_____\n",
    "We'd rather not lose the p values that we were unable to assign with this method so instead we will just reassign gene p values if our method was able to successfully link them, if our method did not work for a given gene then we will use the snps provided by Dan Carlin."
   ]
  },
  {
   "cell_type": "code",
   "execution_count": 16,
   "metadata": {},
   "outputs": [],
   "source": [
    "# import gene_snp map\n",
    "carlin_gene_snps = pd.read_csv('./data/gene_level_summary_stats_pmid_25056061.txt',\n",
    "                        sep='\\t', index_col=1)['TopSNP P-Value']\n",
    "closest_pval = carlin_gene_snps\n",
    "top_p_10kb_tad = carlin_gene_snps\n",
    "\n",
    "for gene, (i, j) in SNP_gene_dict.items():\n",
    "    closest_pval[gene] = i\n",
    "    top_p_10kb_tad[gene] = j"
   ]
  },
  {
   "cell_type": "markdown",
   "metadata": {},
   "source": [
    "# Part 2: Import Networks\n",
    "____\n",
    "\n",
    "\n",
    "The networks used here were selected, evaluated, and imported into networkx by Erica Silva. The ipython notebooks for this section are in the network_processing folder"
   ]
  },
  {
   "cell_type": "code",
   "execution_count": 17,
   "metadata": {
    "scrolled": true
   },
   "outputs": [
    {
     "name": "stdout",
     "output_type": "stream",
     "text": [
      "\n"
     ]
    }
   ],
   "source": [
    "# import PCNet\n",
    "pcnet = NdexGraph(server='http://ndexbio.org', uuid='f93f402c-86d4-11e7-a10d-0ac135e8bacf')\n",
    "\n",
    "# rename nodes to be gene names\n",
    "pcnet = nx.relabel_nodes(pcnet, nx.get_node_attributes(pcnet, 'name'))\n",
    "pcnet = nx.Graph(pcnet)"
   ]
  },
  {
   "cell_type": "code",
   "execution_count": 18,
   "metadata": {},
   "outputs": [],
   "source": [
    "# weighted pcnet\n",
    "with open('./data/networks/pcnet_wt', 'rb') as f:\n",
    "    pcnet_wt = nx.read_gpickle(f)\n",
    "    \n",
    "f.close()"
   ]
  },
  {
   "cell_type": "code",
   "execution_count": 19,
   "metadata": {},
   "outputs": [],
   "source": [
    "# nwnet/GIANT\n",
    "with open('./data/networks/nwnet', 'rb') as f:\n",
    "    nwnet = nx.read_gpickle(f)\n",
    "f.close()\n",
    "\n",
    "nwnet = nx.relabel_nodes(nwnet, nx.get_node_attributes(nwnet, 'name'))"
   ]
  },
  {
   "cell_type": "markdown",
   "metadata": {},
   "source": [
    "# Part 3: Implement and run personalized PageRank algorithm for GWAS\n",
    "____\n",
    "The code for the implementation of personalized PageRank and the evaluation metrics were developed by Hunter Bennett. Erica Silva, Bethany Fixsen, and Hunter Bennett all contributed to the evaluation of results"
   ]
  },
  {
   "cell_type": "markdown",
   "metadata": {},
   "source": [
    "### define functions to run and evaluate personal GWAP"
   ]
  },
  {
   "cell_type": "code",
   "execution_count": 20,
   "metadata": {},
   "outputs": [],
   "source": [
    "def personal_gwap(G, pvals,\n",
    "                  sig_cutoff=8, alpha=0.85,\n",
    "                  max_iter=100, weight=None):\n",
    "    '''Run Personalized Genome Wide Association PageRank (personal gwap)\n",
    "    inputs.\n",
    "    Two options for running:\n",
    "    1. sig_cutoff = None --> use all genes passed to algorithm\n",
    "    2. sig_cutoff = int/float --> only use genes passing sig thresh\n",
    "    limit genes passing genome wide significance threshold.\n",
    "    G: networkx network upon which to propogate signal\n",
    "    gene_series: pandas series in which the indices are genes\n",
    "    and the entries are -log10 pvalues\n",
    "    sig_cutoff: -log10 pvalue used to select significant genes\n",
    "    alpha: alpha parameter to feed into personalizd page rank\n",
    "    max_iter: max_iter paramter to feed into personalized page rank\n",
    "    RETURNS:\n",
    "    score: mean pagerank score across ppr propagated genes'''\n",
    "    \n",
    "    # create series of gene-pval associations for genes within network\n",
    "    genes = list(G.nodes())\n",
    "    gene_series = pd.Series(dict(zip(\n",
    "        pvals.loc[genes].index.values,\n",
    "        np.abs( np.log10( pvals[genes].fillna(1) ) )))) \n",
    "    \n",
    "    #select only gwas significant genes if sig_cutoff is set\n",
    "    if sig_cutoff != None:\n",
    "        sig_genes = gene_series[gene_series >= sig_cutoff]\n",
    "\n",
    "    bool_mem = [1 if gene in sig_genes else 0 for gene in genes]\n",
    "    norm_mem = [i / sum(bool_mem) for i in bool_mem]\n",
    "    \n",
    "    v = dict(zip(genes, norm_mem))\n",
    "    \n",
    "    pr_res = nx.pagerank(G, alpha=alpha, personalization=v,\n",
    "                         max_iter=max_iter, weight=weight)\n",
    "    \n",
    "    return pd.Series(pr_res)\n",
    "\n",
    "def pr_curve(test_in, score_in, ax):\n",
    "    '''calculates average precision and plots PR curve\n",
    "    INPUTS:\n",
    "    test = array of labels that should be recovered\n",
    "    score = array of scores returned by method\n",
    "    OUTPUTS:\n",
    "    average precision: average precision of test/score'''\n",
    "    from sklearn.metrics import precision_recall_curve, average_precision_score\n",
    "    \n",
    "    # only test on genes in both sets\n",
    "    shared_genes = set(score_in.dropna().index.values).intersection(\n",
    "        set(test_in.dropna().index.values))\n",
    "    test = test_in[shared_genes]\n",
    "    score = score_in[shared_genes]\n",
    "    \n",
    "    # calculate average precision\n",
    "    average_precision = average_precision_score(test, score)\n",
    "\n",
    "    # create precision recall curve\n",
    "    precision, recall, _ = precision_recall_curve(test, score)\n",
    "\n",
    "    # plot the curve\n",
    "    ax.step(recall, precision, color='b', alpha=0.2,\n",
    "             where='post')\n",
    "    ax.fill_between(recall, precision, step='post', alpha=0.2,\n",
    "                     color='b')\n",
    "\n",
    "    ax.set_xlabel('Recall')\n",
    "    ax.set_ylabel('Precision')\n",
    "    ax.set_ylim([0.0, 1.05])\n",
    "    ax.set_xlim([0.0, 1.0])\n",
    "    ax.set_title('AP={0:0.2f}'.format(\n",
    "        average_precision))\n",
    "    \n",
    "    return average_precision"
   ]
  },
  {
   "cell_type": "markdown",
   "metadata": {},
   "source": [
    "### Run Algorithm on full network\n",
    "____"
   ]
  },
  {
   "cell_type": "markdown",
   "metadata": {},
   "source": [
    "#### Prepare gene list with genes and p values within network"
   ]
  },
  {
   "cell_type": "code",
   "execution_count": 28,
   "metadata": {},
   "outputs": [],
   "source": [
    "score_pcnet = personal_gwap(pcnet, closest_pval)"
   ]
  },
  {
   "cell_type": "code",
   "execution_count": 29,
   "metadata": {},
   "outputs": [
    {
     "data": {
      "text/plain": [
       "0.093927118278361532"
      ]
     },
     "execution_count": 29,
     "metadata": {},
     "output_type": "execute_result"
    },
    {
     "data": {
      "image/png": "[encoded data removed]",
      "text/plain": [
       "<matplotlib.figure.Figure at 0x7f74789edf60>"
      ]
     },
     "metadata": {},
     "output_type": "display_data"
    }
   ],
   "source": [
    "fig, ax = plt.subplots(1, 1, figsize = (10, 10))\n",
    "pr_curve(closest_pval.rank() <= 1000, score_pcnet, ax)"
   ]
  },
  {
   "cell_type": "code",
   "execution_count": 30,
   "metadata": {},
   "outputs": [],
   "source": [
    "score_pcnet_weighted = personal_gwap(pcnet_wt, closest_pval, weight='p')"
   ]
  },
  {
   "cell_type": "code",
   "execution_count": 31,
   "metadata": {},
   "outputs": [
    {
     "data": {
      "text/plain": [
       "0.092481670200671981"
      ]
     },
     "execution_count": 31,
     "metadata": {},
     "output_type": "execute_result"
    },
    {
     "data": {
      "image/png": "[encoded data removed]",
      "text/plain": [
       "<matplotlib.figure.Figure at 0x7f74a0aa5710>"
      ]
     },
     "metadata": {},
     "output_type": "display_data"
    }
   ],
   "source": [
    "fig, ax = plt.subplots(1, 1, figsize = (10, 10))\n",
    "pr_curve(closest_pval.rank() <= 1000, score_pcnet_weighted, ax)"
   ]
  },
  {
   "cell_type": "code",
   "execution_count": 32,
   "metadata": {},
   "outputs": [],
   "source": [
    "score_pcnet_weighted.to_csv('./results/pcnet_score_weighted.tsv', sep='\\t')"
   ]
  },
  {
   "cell_type": "code",
   "execution_count": 33,
   "metadata": {},
   "outputs": [],
   "source": [
    "score_nwnet = personal_gwap(nwnet, closest_pval, weight='post_prob')"
   ]
  },
  {
   "cell_type": "code",
   "execution_count": 34,
   "metadata": {},
   "outputs": [
    {
     "data": {
      "text/plain": [
       "0.085231800847410083"
      ]
     },
     "execution_count": 34,
     "metadata": {},
     "output_type": "execute_result"
    },
    {
     "data": {
      "image/png": "[encoded data removed]",
      "text/plain": [
       "<matplotlib.figure.Figure at 0x7f74ab86eb70>"
      ]
     },
     "metadata": {},
     "output_type": "display_data"
    }
   ],
   "source": [
    "fig, ax = plt.subplots(1, 1, figsize = (10, 10))\n",
    "pr_curve(closest_pval.rank() <= 1000, score_nwnet, ax)"
   ]
  },
  {
   "cell_type": "markdown",
   "metadata": {},
   "source": [
    "### save scores for downstream use"
   ]
  },
  {
   "cell_type": "code",
   "execution_count": 35,
   "metadata": {},
   "outputs": [],
   "source": [
    "score_pcnet.to_csv('./results/pcnet_score.tsv', sep='\\t')\n",
    "score_pcnet_weighted.to_csv('./results/pcnet_score_weighted.tsv', sep='\\t')\n",
    "score_nwnet.to_csv('./results/score_nwnet_weighted.tsv', sep='\\t')"
   ]
  },
  {
   "cell_type": "markdown",
   "metadata": {},
   "source": [
    "### import scores if starting here"
   ]
  },
  {
   "cell_type": "code",
   "execution_count": 36,
   "metadata": {},
   "outputs": [],
   "source": [
    "score_pcnet = pd.read_csv('./results/pcnet_score.tsv', sep='\\t', index_col=0, header=None, names=['gene', 'score'])\n",
    "score_pcnet_weighted = pd.read_csv('./results/pcnet_score_weighted.tsv', sep='\\t', index_col=0, header=None, names=['gene', 'score'])\n",
    "score_nwnet = pd.read_csv('./results/score_nwnet_weighted.tsv', sep='\\t', index_col=0, header=None, names=['gene', 'score'])"
   ]
  },
  {
   "cell_type": "markdown",
   "metadata": {},
   "source": [
    "### Evaluate overlap of sets"
   ]
  },
  {
   "cell_type": "code",
   "execution_count": 37,
   "metadata": {
    "scrolled": true
   },
   "outputs": [],
   "source": [
    "pcnet_1000 = (score_pcnet[score_pcnet.score.rank(ascending=False) <= 1000].index.values)\n",
    "pcnet_w_1000 = (score_pcnet_weighted[score_pcnet_weighted.score.rank(ascending=False) <= 1000].index.values)\n",
    "score_nwnet = (score_nwnet[score_nwnet.score.rank(ascending=False) <= 1000].index.values)\n",
    "gwas_1000 = carlin_gene_snps[carlin_gene_snps.rank() <= 1000].index.values"
   ]
  },
  {
   "cell_type": "code",
   "execution_count": 38,
   "metadata": {},
   "outputs": [
    {
     "data": {
      "text/plain": [
       "836"
      ]
     },
     "execution_count": 38,
     "metadata": {},
     "output_type": "execute_result"
    }
   ],
   "source": [
    "len(set(pcnet_1000).intersection(pcnet_w_1000))"
   ]
  },
  {
   "cell_type": "code",
   "execution_count": 39,
   "metadata": {},
   "outputs": [
    {
     "data": {
      "text/plain": [
       "22"
      ]
     },
     "execution_count": 39,
     "metadata": {},
     "output_type": "execute_result"
    }
   ],
   "source": [
    "len(set(pcnet_1000).intersection(score_nwnet))"
   ]
  },
  {
   "cell_type": "code",
   "execution_count": 40,
   "metadata": {},
   "outputs": [
    {
     "data": {
      "text/plain": [
       "23"
      ]
     },
     "execution_count": 40,
     "metadata": {},
     "output_type": "execute_result"
    }
   ],
   "source": [
    "len(set(score_nwnet).intersection(pcnet_w_1000))"
   ]
  },
  {
   "cell_type": "code",
   "execution_count": 41,
   "metadata": {},
   "outputs": [
    {
     "data": {
      "text/plain": [
       "21"
      ]
     },
     "execution_count": 41,
     "metadata": {},
     "output_type": "execute_result"
    }
   ],
   "source": [
    "len( (set(pcnet_1000).intersection(pcnet_w_1000)).intersection(score_nwnet) )"
   ]
  },
  {
   "cell_type": "markdown",
   "metadata": {},
   "source": [
    "# Internal Validation\n",
    "_____\n",
    "Validation will be done by using 60% of top 1000 genes to propagate the network.  \n",
    "We will then test our ability to recover the other 40 top genes in our top 100 re-ranked genes"
   ]
  },
  {
   "cell_type": "code",
   "execution_count": 27,
   "metadata": {},
   "outputs": [],
   "source": [
    "def eval_personal_gwap(G, gwas_res, ax,\n",
    "                       n_iter=3,\n",
    "                       sig_cutoff=8,\n",
    "                       alpha=0.85,\n",
    "                       max_iter=100):\n",
    "    \n",
    "    # initialize plot\n",
    "    plt.figure()\n",
    "    # initialize list to store scores\n",
    "    pr_scores = []\n",
    "    ap_scores = []\n",
    "    for i in range(n_iter):\n",
    "        start = time.time()\n",
    "        print('performing training iteration:', i + 1)\n",
    "        # get training and test genes\n",
    "        train_genes, test_genes = train_test_split(gwas_res[gwas_res.rank() <= 1000],\n",
    "                                           train_size=0.6)\n",
    "        # create boolean testing vector\n",
    "        y_test = pd.Series(dict(zip(closest_pval.index.values,\n",
    "                                    closest_pval.index.isin(test_genes.index))))\n",
    "        # score using gwap\n",
    "        y_score = personal_gwap(G, train_genes,\n",
    "                                sig_cutoff=sig_cutoff,\n",
    "                                alpha=alpha,\n",
    "                                max_iter=max_iter)\n",
    "        # calculate pr curve and average precision\n",
    "        ap = pr_curve(y_test, y_score, ax=ax)\n",
    "        # store pagerank scores\n",
    "        pr_scores.append(y_score)\n",
    "        # store average precision\n",
    "        ap_scores.append(ap)\n",
    "        end = time.time()\n",
    "        print('calculation time:', end-start)\n",
    "    return y_score, ap_scores"
   ]
  },
  {
   "cell_type": "markdown",
   "metadata": {},
   "source": [
    "evaluate different parameters of alpha"
   ]
  },
  {
   "cell_type": "code",
   "execution_count": 140,
   "metadata": {
    "scrolled": true
   },
   "outputs": [
    {
     "name": "stdout",
     "output_type": "stream",
     "text": [
      "performing training iteration: 1\n",
      "Gene\n",
      "MKL1      0.000978\n",
      "SORBS2    0.000158\n",
      "YJEFN3    0.000170\n",
      "TXNRD2    0.000010\n",
      "DDX24     0.001052\n",
      "Name: TopSNP P-Value, dtype: float64\n",
      "calculation time: 130.689195394516\n",
      "performing training iteration: 2\n",
      "Gene\n",
      "SIX2       0.000189\n",
      "MAPK6      0.000828\n",
      "TCF20      0.000185\n",
      "ZNF214     0.001170\n",
      "CCDC122    0.000355\n",
      "Name: TopSNP P-Value, dtype: float64\n",
      "calculation time: 100.57608485221863\n",
      "performing training iteration: 3\n",
      "Gene\n",
      "MMD         0.000839\n",
      "DNAH9       0.000963\n",
      "CEACAM16    0.000732\n",
      "SLC14A2     0.000063\n",
      "SSBP3       0.000929\n",
      "Name: TopSNP P-Value, dtype: float64\n",
      "calculation time: 118.59797835350037\n",
      "performing training iteration: 1\n",
      "Gene\n",
      "SERPINF1    0.000033\n",
      "HIST1H1C    0.000002\n",
      "NRBP2       0.000096\n",
      "DDAH1       0.001038\n",
      "TRAF3       0.000286\n",
      "Name: TopSNP P-Value, dtype: float64\n",
      "calculation time: 111.88065767288208\n",
      "performing training iteration: 2\n",
      "Gene\n",
      "SMU1        7.923830e-04\n",
      "EXT1        4.341930e-04\n",
      "TMEM63C     6.756840e-04\n",
      "ATP6V0A1    6.363390e-04\n",
      "PRSS16      3.497980e-10\n",
      "Name: TopSNP P-Value, dtype: float64\n",
      "calculation time: 119.08754014968872\n",
      "performing training iteration: 3\n",
      "Gene\n",
      "KIAA0513    3.656730e-04\n",
      "ESRRG       1.207460e-03\n",
      "EFHD1       1.123950e-03\n",
      "DAOA        2.244250e-05\n",
      "HIST1H1B    7.053790e-10\n",
      "Name: TopSNP P-Value, dtype: float64\n",
      "calculation time: 105.89678812026978\n",
      "performing training iteration: 1\n",
      "Gene\n",
      "SSBP3     0.000929\n",
      "POLL      0.001166\n",
      "SIL1      0.000139\n",
      "EGFR      0.000632\n",
      "LMAN2L    0.000576\n",
      "Name: TopSNP P-Value, dtype: float64\n",
      "calculation time: 109.67240452766418\n",
      "performing training iteration: 2\n",
      "Gene\n",
      "PTK7       0.000151\n",
      "CACNA1A    0.000192\n",
      "SIRPD      0.001053\n",
      "CORO7      0.000087\n",
      "DOK5       0.000753\n",
      "Name: TopSNP P-Value, dtype: float64\n",
      "calculation time: 117.67736196517944\n",
      "performing training iteration: 3\n",
      "Gene\n",
      "MED30      0.000649\n",
      "IL1RL1     0.001147\n",
      "NMRAL1     0.000068\n",
      "ELOVL4     0.000702\n",
      "SLC35F2    0.000357\n",
      "Name: TopSNP P-Value, dtype: float64\n",
      "calculation time: 127.50090861320496\n",
      "performing training iteration: 1\n",
      "Gene\n",
      "LBX2       0.000098\n",
      "MBD1       0.000636\n",
      "PELI2      0.000941\n",
      "GRAMD1B    0.000084\n",
      "SHANK3     0.000925\n",
      "Name: TopSNP P-Value, dtype: float64\n",
      "calculation time: 126.95987749099731\n",
      "performing training iteration: 2\n",
      "Gene\n",
      "DIP2B       0.000047\n",
      "RYR2        0.000183\n",
      "SMARCAD1    0.000278\n",
      "OLFM1       0.001087\n",
      "PREX2       0.000868\n",
      "Name: TopSNP P-Value, dtype: float64\n",
      "calculation time: 134.8119502067566\n",
      "performing training iteration: 3\n",
      "Gene\n",
      "GIGYF2    0.000015\n",
      "CRELD2    0.000200\n",
      "FAR2      0.000915\n",
      "FOXP4     0.000128\n",
      "OTX2      0.000240\n",
      "Name: TopSNP P-Value, dtype: float64\n",
      "calculation time: 136.4452178478241\n",
      "performing training iteration: 1\n",
      "Gene\n",
      "EPHA7     0.000030\n",
      "FSTL4     0.000297\n",
      "EDEM1     0.000989\n",
      "CHST12    0.000010\n",
      "TNNC2     0.001130\n",
      "Name: TopSNP P-Value, dtype: float64\n",
      "calculation time: 130.7061846256256\n",
      "performing training iteration: 2\n",
      "Gene\n",
      "IL1RL1      1.146760e-03\n",
      "LYN         1.631270e-04\n",
      "MAPK1       5.408880e-04\n",
      "EHBP1       8.185850e-04\n",
      "HIST1H4K    3.483380e-07\n",
      "Name: TopSNP P-Value, dtype: float64\n",
      "calculation time: 138.84112167358398\n",
      "performing training iteration: 3\n",
      "Gene\n",
      "LSAMP      0.000681\n",
      "CHRNA3     0.000274\n",
      "ZNF395     0.000582\n",
      "DNAJC18    0.000415\n",
      "STX18      0.000127\n",
      "Name: TopSNP P-Value, dtype: float64\n",
      "calculation time: 137.00823187828064\n",
      "performing training iteration: 1\n",
      "Gene\n",
      "MANEA       0.000271\n",
      "CALHM3      0.000036\n",
      "PPP1R16B    0.000369\n",
      "SMU1        0.000792\n",
      "STXBP3      0.000087\n",
      "Name: TopSNP P-Value, dtype: float64\n",
      "calculation time: 151.48517990112305\n",
      "performing training iteration: 2\n",
      "Gene\n",
      "USF1        1.042180e-03\n",
      "FOXN2       1.638290e-05\n",
      "GPX5        6.142580e-07\n",
      "HIST1H1E    1.458100e-09\n",
      "PTBP2       2.064250e-05\n",
      "Name: TopSNP P-Value, dtype: float64\n",
      "calculation time: 143.4433147907257\n",
      "performing training iteration: 3\n",
      "Gene\n",
      "FBXO40     0.000458\n",
      "CACNA1I    0.000367\n",
      "ASB3       0.000223\n",
      "PIK3C2A    0.000002\n",
      "MTSS1      0.000568\n",
      "Name: TopSNP P-Value, dtype: float64\n",
      "calculation time: 147.27630305290222\n",
      "performing training iteration: 1\n",
      "Gene\n",
      "TMEM86A    0.000535\n",
      "ANP32E     0.000105\n",
      "TSPAN2     0.000447\n",
      "FBXO40     0.000458\n",
      "TBC1D19    0.000273\n",
      "Name: TopSNP P-Value, dtype: float64\n",
      "calculation time: 148.10567092895508\n",
      "performing training iteration: 2\n",
      "Gene\n",
      "IL22RA1    2.343450e-04\n",
      "PRSS16     3.497980e-10\n",
      "ZNF184     5.803530e-09\n",
      "GATAD2A    1.573330e-04\n",
      "MAP9       5.499170e-04\n",
      "Name: TopSNP P-Value, dtype: float64\n",
      "calculation time: 150.69964909553528\n",
      "performing training iteration: 3\n",
      "Gene\n",
      "SPRED1    0.000300\n",
      "FUT8      0.000253\n",
      "OR1Q1     0.000444\n",
      "MAPK1     0.000541\n",
      "VCAM1     0.000530\n",
      "Name: TopSNP P-Value, dtype: float64\n",
      "calculation time: 147.4237415790558\n",
      "performing training iteration: 1\n",
      "Gene\n",
      "GIP      0.000605\n",
      "FOXF1    0.000875\n",
      "SYT12    0.000847\n",
      "FSTL4    0.000297\n",
      "FANCA    0.001112\n",
      "Name: TopSNP P-Value, dtype: float64\n",
      "calculation time: 153.74050164222717\n",
      "performing training iteration: 2\n",
      "Gene\n",
      "TSPAN2    0.000447\n",
      "DIP2B     0.000047\n",
      "SYT12     0.000847\n",
      "FCHSD2    0.000065\n",
      "FOXF1     0.000875\n",
      "Name: TopSNP P-Value, dtype: float64\n",
      "calculation time: 149.0983760356903\n",
      "performing training iteration: 3\n",
      "Gene\n",
      "STT3A     1.506850e-07\n",
      "CD276     6.912420e-04\n",
      "GABRB1    1.068740e-03\n",
      "CD34      6.949450e-04\n",
      "INA       6.539820e-04\n",
      "Name: TopSNP P-Value, dtype: float64\n",
      "calculation time: 154.7037558555603\n",
      "performing training iteration: 1\n",
      "Gene\n",
      "MCM3AP    0.000708\n",
      "ANP32E    0.000105\n",
      "NUCB2     0.000765\n",
      "REV3L     0.001112\n",
      "MED19     0.000028\n",
      "Name: TopSNP P-Value, dtype: float64\n",
      "calculation time: 149.947856426239\n",
      "performing training iteration: 2\n",
      "Gene\n",
      "ZBTB10    0.000256\n",
      "BLID      0.000147\n",
      "OPCML     0.000230\n",
      "MPV17     0.000314\n",
      "FOLH1     0.000607\n",
      "Name: TopSNP P-Value, dtype: float64\n",
      "calculation time: 155.621196269989\n",
      "performing training iteration: 3\n",
      "Gene\n",
      "LARP4      0.000290\n",
      "SNX13      0.000785\n",
      "CRYZ       0.000981\n",
      "TBL1XR1    0.000572\n",
      "CCDC149    0.000620\n",
      "Name: TopSNP P-Value, dtype: float64\n",
      "calculation time: 154.18482518196106\n"
     ]
    },
    {
     "data": {
      "image/png": "[encoded data removed]",
      "text/plain": [
       "<matplotlib.figure.Figure at 0x7fc28d1bb550>"
      ]
     },
     "metadata": {},
     "output_type": "display_data"
    },
    {
     "data": {
      "text/plain": [
       "<matplotlib.figure.Figure at 0x7fc294206a90>"
      ]
     },
     "metadata": {},
     "output_type": "display_data"
    },
    {
     "data": {
      "text/plain": [
       "<matplotlib.figure.Figure at 0x7fc28d19ea20>"
      ]
     },
     "metadata": {},
     "output_type": "display_data"
    },
    {
     "data": {
      "text/plain": [
       "<matplotlib.figure.Figure at 0x7fc29384d438>"
      ]
     },
     "metadata": {},
     "output_type": "display_data"
    },
    {
     "data": {
      "text/plain": [
       "<matplotlib.figure.Figure at 0x7fb655a63a58>"
      ]
     },
     "metadata": {},
     "output_type": "display_data"
    },
    {
     "data": {
      "text/plain": [
       "<matplotlib.figure.Figure at 0x7fb6557c7c88>"
      ]
     },
     "metadata": {},
     "output_type": "display_data"
    },
    {
     "data": {
      "text/plain": [
       "<matplotlib.figure.Figure at 0x7fb6552525f8>"
      ]
     },
     "metadata": {},
     "output_type": "display_data"
    },
    {
     "data": {
      "text/plain": [
       "<matplotlib.figure.Figure at 0x7fb6556de940>"
      ]
     },
     "metadata": {},
     "output_type": "display_data"
    },
    {
     "data": {
      "text/plain": [
       "<matplotlib.figure.Figure at 0x7fc26cc83668>"
      ]
     },
     "metadata": {},
     "output_type": "display_data"
    },
    {
     "data": {
      "text/plain": [
       "<matplotlib.figure.Figure at 0x7fb6554d5438>"
      ]
     },
     "metadata": {},
     "output_type": "display_data"
    }
   ],
   "source": [
    "# set random seed\n",
    "np.random.seed(1902)\n",
    "\n",
    "count=0\n",
    "ap_score_dict = {}\n",
    "pr_score_dict = {}\n",
    "alpha_range = np.arange(0.05, 0.95, 0.1)\n",
    "\n",
    "fig, axs = plt.subplots(3, 3, figsize=(20, 20))\n",
    "\n",
    "\n",
    "for alpha in np.arange(0.05, 0.95, 0.1):\n",
    "    pr_scores, ap_scores = eval_personal_gwap(pcnet,\n",
    "                                         closest_pval,\n",
    "                                         np.ravel(axs)[count],\n",
    "                                         alpha=alpha,\n",
    "                                         n_iter=3)\n",
    "    ap_score_dict[alpha] = ap_scores\n",
    "    pr_score_dict[alpha] = pr_scores\n",
    "    \n",
    "    count += 1"
   ]
  },
  {
   "cell_type": "code",
   "execution_count": 142,
   "metadata": {
    "scrolled": true
   },
   "outputs": [
    {
     "name": "stdout",
     "output_type": "stream",
     "text": [
      "performing training iteration: 1\n",
      "Gene\n",
      "MKL1      0.000978\n",
      "SORBS2    0.000158\n",
      "YJEFN3    0.000170\n",
      "TXNRD2    0.000010\n",
      "DDX24     0.001052\n",
      "Name: TopSNP P-Value, dtype: float64\n",
      "calculation time: 156.18366742134094\n",
      "performing training iteration: 2\n",
      "Gene\n",
      "SIX2       0.000189\n",
      "MAPK6      0.000828\n",
      "TCF20      0.000185\n",
      "ZNF214     0.001170\n",
      "CCDC122    0.000355\n",
      "Name: TopSNP P-Value, dtype: float64\n",
      "calculation time: 179.73646759986877\n",
      "performing training iteration: 3\n",
      "Gene\n",
      "MMD         0.000839\n",
      "DNAH9       0.000963\n",
      "CEACAM16    0.000732\n",
      "SLC14A2     0.000063\n",
      "SSBP3       0.000929\n",
      "Name: TopSNP P-Value, dtype: float64\n",
      "calculation time: 168.4197437763214\n",
      "performing training iteration: 1\n",
      "Gene\n",
      "SERPINF1    0.000033\n",
      "HIST1H1C    0.000002\n",
      "NRBP2       0.000096\n",
      "DDAH1       0.001038\n",
      "TRAF3       0.000286\n",
      "Name: TopSNP P-Value, dtype: float64\n",
      "calculation time: 169.13753652572632\n",
      "performing training iteration: 2\n",
      "Gene\n",
      "SMU1        7.923830e-04\n",
      "EXT1        4.341930e-04\n",
      "TMEM63C     6.756840e-04\n",
      "ATP6V0A1    6.363390e-04\n",
      "PRSS16      3.497980e-10\n",
      "Name: TopSNP P-Value, dtype: float64\n",
      "calculation time: 139.09687209129333\n",
      "performing training iteration: 3\n",
      "Gene\n",
      "KIAA0513    3.656730e-04\n",
      "ESRRG       1.207460e-03\n",
      "EFHD1       1.123950e-03\n",
      "DAOA        2.244250e-05\n",
      "HIST1H1B    7.053790e-10\n",
      "Name: TopSNP P-Value, dtype: float64\n",
      "calculation time: 164.85195899009705\n",
      "performing training iteration: 1\n",
      "Gene\n",
      "SSBP3     0.000929\n",
      "POLL      0.001166\n",
      "SIL1      0.000139\n",
      "EGFR      0.000632\n",
      "LMAN2L    0.000576\n",
      "Name: TopSNP P-Value, dtype: float64\n",
      "calculation time: 144.121643781662\n",
      "performing training iteration: 2\n",
      "Gene\n",
      "PTK7       0.000151\n",
      "CACNA1A    0.000192\n",
      "SIRPD      0.001053\n",
      "CORO7      0.000087\n",
      "DOK5       0.000753\n",
      "Name: TopSNP P-Value, dtype: float64\n",
      "calculation time: 156.01089692115784\n",
      "performing training iteration: 3\n",
      "Gene\n",
      "MED30      0.000649\n",
      "IL1RL1     0.001147\n",
      "NMRAL1     0.000068\n",
      "ELOVL4     0.000702\n",
      "SLC35F2    0.000357\n",
      "Name: TopSNP P-Value, dtype: float64\n",
      "calculation time: 186.08117079734802\n",
      "performing training iteration: 1\n",
      "Gene\n",
      "LBX2       0.000098\n",
      "MBD1       0.000636\n",
      "PELI2      0.000941\n",
      "GRAMD1B    0.000084\n",
      "SHANK3     0.000925\n",
      "Name: TopSNP P-Value, dtype: float64\n",
      "calculation time: 185.08672404289246\n",
      "performing training iteration: 2\n",
      "Gene\n",
      "DIP2B       0.000047\n",
      "RYR2        0.000183\n",
      "SMARCAD1    0.000278\n",
      "OLFM1       0.001087\n",
      "PREX2       0.000868\n",
      "Name: TopSNP P-Value, dtype: float64\n",
      "calculation time: 179.51877856254578\n",
      "performing training iteration: 3\n",
      "Gene\n",
      "GIGYF2    0.000015\n",
      "CRELD2    0.000200\n",
      "FAR2      0.000915\n",
      "FOXP4     0.000128\n",
      "OTX2      0.000240\n",
      "Name: TopSNP P-Value, dtype: float64\n",
      "calculation time: 198.80101680755615\n",
      "performing training iteration: 1\n",
      "Gene\n",
      "EPHA7     0.000030\n",
      "FSTL4     0.000297\n",
      "EDEM1     0.000989\n",
      "CHST12    0.000010\n",
      "TNNC2     0.001130\n",
      "Name: TopSNP P-Value, dtype: float64\n",
      "calculation time: 173.16637301445007\n",
      "performing training iteration: 2\n",
      "Gene\n",
      "IL1RL1      1.146760e-03\n",
      "LYN         1.631270e-04\n",
      "MAPK1       5.408880e-04\n",
      "EHBP1       8.185850e-04\n",
      "HIST1H4K    3.483380e-07\n",
      "Name: TopSNP P-Value, dtype: float64\n",
      "calculation time: 156.5972228050232\n",
      "performing training iteration: 3\n",
      "Gene\n",
      "LSAMP      0.000681\n",
      "CHRNA3     0.000274\n",
      "ZNF395     0.000582\n",
      "DNAJC18    0.000415\n",
      "STX18      0.000127\n",
      "Name: TopSNP P-Value, dtype: float64\n",
      "calculation time: 140.31063199043274\n",
      "performing training iteration: 1\n",
      "Gene\n",
      "MANEA       0.000271\n",
      "CALHM3      0.000036\n",
      "PPP1R16B    0.000369\n",
      "SMU1        0.000792\n",
      "STXBP3      0.000087\n",
      "Name: TopSNP P-Value, dtype: float64\n",
      "calculation time: 144.05409216880798\n",
      "performing training iteration: 2\n",
      "Gene\n",
      "USF1        1.042180e-03\n",
      "FOXN2       1.638290e-05\n",
      "GPX5        6.142580e-07\n",
      "HIST1H1E    1.458100e-09\n",
      "PTBP2       2.064250e-05\n",
      "Name: TopSNP P-Value, dtype: float64\n",
      "calculation time: 148.79810762405396\n",
      "performing training iteration: 3\n",
      "Gene\n",
      "FBXO40     0.000458\n",
      "CACNA1I    0.000367\n",
      "ASB3       0.000223\n",
      "PIK3C2A    0.000002\n",
      "MTSS1      0.000568\n",
      "Name: TopSNP P-Value, dtype: float64\n",
      "calculation time: 158.63388228416443\n",
      "performing training iteration: 1\n",
      "Gene\n",
      "TMEM86A    0.000535\n",
      "ANP32E     0.000105\n",
      "TSPAN2     0.000447\n",
      "FBXO40     0.000458\n",
      "TBC1D19    0.000273\n",
      "Name: TopSNP P-Value, dtype: float64\n",
      "calculation time: 198.3363745212555\n",
      "performing training iteration: 2\n",
      "Gene\n",
      "IL22RA1    2.343450e-04\n",
      "PRSS16     3.497980e-10\n",
      "ZNF184     5.803530e-09\n",
      "GATAD2A    1.573330e-04\n",
      "MAP9       5.499170e-04\n",
      "Name: TopSNP P-Value, dtype: float64\n",
      "calculation time: 184.49105834960938\n",
      "performing training iteration: 3\n",
      "Gene\n",
      "SPRED1    0.000300\n",
      "FUT8      0.000253\n",
      "OR1Q1     0.000444\n",
      "MAPK1     0.000541\n",
      "VCAM1     0.000530\n",
      "Name: TopSNP P-Value, dtype: float64\n",
      "calculation time: 189.95998549461365\n",
      "performing training iteration: 1\n",
      "Gene\n",
      "GIP      0.000605\n",
      "FOXF1    0.000875\n",
      "SYT12    0.000847\n",
      "FSTL4    0.000297\n",
      "FANCA    0.001112\n",
      "Name: TopSNP P-Value, dtype: float64\n",
      "calculation time: 202.02431964874268\n",
      "performing training iteration: 2\n",
      "Gene\n",
      "TSPAN2    0.000447\n",
      "DIP2B     0.000047\n",
      "SYT12     0.000847\n",
      "FCHSD2    0.000065\n",
      "FOXF1     0.000875\n",
      "Name: TopSNP P-Value, dtype: float64\n",
      "calculation time: 222.86733603477478\n",
      "performing training iteration: 3\n",
      "Gene\n",
      "STT3A     1.506850e-07\n",
      "CD276     6.912420e-04\n",
      "GABRB1    1.068740e-03\n",
      "CD34      6.949450e-04\n",
      "INA       6.539820e-04\n",
      "Name: TopSNP P-Value, dtype: float64\n",
      "calculation time: 236.10453915596008\n",
      "performing training iteration: 1\n",
      "Gene\n",
      "MCM3AP    0.000708\n",
      "ANP32E    0.000105\n",
      "NUCB2     0.000765\n",
      "REV3L     0.001112\n",
      "MED19     0.000028\n",
      "Name: TopSNP P-Value, dtype: float64\n",
      "calculation time: 192.06026363372803\n",
      "performing training iteration: 2\n",
      "Gene\n",
      "ZBTB10    0.000256\n",
      "BLID      0.000147\n",
      "OPCML     0.000230\n",
      "MPV17     0.000314\n",
      "FOLH1     0.000607\n",
      "Name: TopSNP P-Value, dtype: float64\n",
      "calculation time: 190.4170162677765\n",
      "performing training iteration: 3\n",
      "Gene\n",
      "LARP4      0.000290\n",
      "SNX13      0.000785\n",
      "CRYZ       0.000981\n",
      "TBL1XR1    0.000572\n",
      "CCDC149    0.000620\n",
      "Name: TopSNP P-Value, dtype: float64\n",
      "calculation time: 212.01473569869995\n"
     ]
    },
    {
     "data": {
      "image/png": "[encoded data removed]",
      "text/plain": [
       "<matplotlib.figure.Figure at 0x7fc2c1b69080>"
      ]
     },
     "metadata": {},
     "output_type": "display_data"
    },
    {
     "data": {
      "text/plain": [
       "<matplotlib.figure.Figure at 0x7fc274d37e10>"
      ]
     },
     "metadata": {},
     "output_type": "display_data"
    },
    {
     "data": {
      "text/plain": [
       "<matplotlib.figure.Figure at 0x7fb6557a8780>"
      ]
     },
     "metadata": {},
     "output_type": "display_data"
    },
    {
     "data": {
      "text/plain": [
       "<matplotlib.figure.Figure at 0x7fc294206748>"
      ]
     },
     "metadata": {},
     "output_type": "display_data"
    },
    {
     "data": {
      "text/plain": [
       "<matplotlib.figure.Figure at 0x7fb6550cfc18>"
      ]
     },
     "metadata": {},
     "output_type": "display_data"
    },
    {
     "data": {
      "text/plain": [
       "<matplotlib.figure.Figure at 0x7fc2af0bef98>"
      ]
     },
     "metadata": {},
     "output_type": "display_data"
    },
    {
     "data": {
      "text/plain": [
       "<matplotlib.figure.Figure at 0x7fb6563936a0>"
      ]
     },
     "metadata": {},
     "output_type": "display_data"
    },
    {
     "data": {
      "text/plain": [
       "<matplotlib.figure.Figure at 0x7fb6550a6d30>"
      ]
     },
     "metadata": {},
     "output_type": "display_data"
    },
    {
     "data": {
      "text/plain": [
       "<matplotlib.figure.Figure at 0x7fb6550b7a90>"
      ]
     },
     "metadata": {},
     "output_type": "display_data"
    },
    {
     "data": {
      "text/plain": [
       "<matplotlib.figure.Figure at 0x7fc2c2fe8ef0>"
      ]
     },
     "metadata": {},
     "output_type": "display_data"
    }
   ],
   "source": [
    "# set random seed\n",
    "np.random.seed(1902)\n",
    "\n",
    "count=0\n",
    "ap_score_dict_wt = {}\n",
    "pr_score_dict_wt = {}\n",
    "alpha_range = np.arange(0.05, 0.95, 0.1)\n",
    "\n",
    "fig, axs = plt.subplots(3, 3, figsize=(20, 20))\n",
    "\n",
    "\n",
    "for alpha in np.arange(0.05, 0.95, 0.1):\n",
    "    pr_scores, ap_scores = eval_personal_gwap(pcnet_wt,\n",
    "                                         closest_pval,\n",
    "                                         np.ravel(axs)[count],\n",
    "                                         alpha=alpha,\n",
    "                                         n_iter=3)\n",
    "    ap_score_dict_wt[alpha] = ap_scores\n",
    "    pr_score_dict_wt[alpha] = pr_scores\n",
    "    \n",
    "    count += 1"
   ]
  },
  {
   "cell_type": "code",
   "execution_count": 143,
   "metadata": {},
   "outputs": [],
   "source": [
    "# create score dict for plotting\n",
    "ap_scores = pd.DataFrame(ap_score_dict).T\n",
    "ap_scores['average'] = ap_scores.mean(1)\n",
    "ap_scores['standard_dev'] = ap_scores.std(1)\n",
    "ap_scores.index.rename('alpha', inplace=True)\n",
    "ap_scores.reset_index(inplace=True)\n",
    "ap_scores.to_csv('./results/avg_precision_pcnet.tsv', sep='\\t')"
   ]
  },
  {
   "cell_type": "code",
   "execution_count": 144,
   "metadata": {},
   "outputs": [],
   "source": [
    "# create score dict for plotting\n",
    "ap_scores_wt = pd.DataFrame(ap_score_dict_wt).T\n",
    "ap_scores_wt['average'] = ap_scores_wt.mean(1)\n",
    "ap_scores_wt['standard_dev'] = ap_scores.std(1)\n",
    "ap_scores_wt.index.rename('alpha', inplace=True)\n",
    "ap_scores_wt.reset_index(inplace=True)\n",
    "ap_scores_wt.to_csv('./results/avg_precision_pcnet_wt.tsv', sep='\\t')"
   ]
  },
  {
   "cell_type": "markdown",
   "metadata": {},
   "source": [
    "### Load average precision graphs if starting from here "
   ]
  },
  {
   "cell_type": "code",
   "execution_count": null,
   "metadata": {},
   "outputs": [],
   "source": [
    "ap_scores = pd.read_csv('./results/avg_precision_pcnet_wt.tsv', sep='\\t')\n",
    "ap_scores_wt = pd.read_csv('./results/avg_precision_pcnet_wt.tsv', sep='\\t')"
   ]
  },
  {
   "cell_type": "markdown",
   "metadata": {},
   "source": [
    "### Plot our average precision"
   ]
  },
  {
   "cell_type": "code",
   "execution_count": 139,
   "metadata": {},
   "outputs": [
    {
     "data": {
      "image/png": "[encoded data removed]",
      "text/plain": [
       "<matplotlib.figure.Figure at 0x7fd77c3a7278>"
      ]
     },
     "metadata": {},
     "output_type": "display_data"
    }
   ],
   "source": [
    "plt.figure(figsize=(10,10))\n",
    "plt.scatter(ap_scores.alpha, ap_scores.average)\n",
    "plt.errorbar(x=ap_scores.alpha, y=ap_scores.average,\n",
    "             yerr=ap_scores.standard_dev)\n",
    "plt.xlabel('alpha', fontsize=20)\n",
    "plt.ylabel('average precision', fontsize=20)\n",
    "ax = plt.gca()\n",
    "ax.tick_params(axis = 'both', which = 'major', labelsize = 16)\n"
   ]
  },
  {
   "cell_type": "markdown",
   "metadata": {},
   "source": [
    "### Evaluate ranked list in the retrieval of curated schizophrenia genes"
   ]
  },
  {
   "cell_type": "code",
   "execution_count": 61,
   "metadata": {},
   "outputs": [],
   "source": [
    "\n",
    "\n",
    "harmonize_scz = 'http://amp.pharm.mssm.edu/Harmonizome/api/1.0/gene_set/Schizophrenia/CTD+Gene-Disease+Associations'\n",
    "scz_json = json.loads(requests.get(harmonize_scz).text)['associations']\n",
    "# extract genes from database\n",
    "scz_genes = [gene['gene']['symbol'] for gene in scz_json]\n",
    "\n",
    "harmonize_bpd = 'http://amp.pharm.mssm.edu/Harmonizome/api/1.0/gene_set/Bipolar+Disorder/CTD+Gene-Disease+Associations'\n",
    "bpd_json = json.loads(requests.get(harmonize_scz).text)['associations']\n"
   ]
  },
  {
   "cell_type": "markdown",
   "metadata": {},
   "source": [
    "omim genes taken from: https://www.omim.org/entry/181500?search=schizophrenia&highlight=schizophrenia"
   ]
  },
  {
   "cell_type": "code",
   "execution_count": 62,
   "metadata": {},
   "outputs": [],
   "source": [
    "scz_omim = ['MTHFR', 'CHI3L1', 'DISC2', 'SYN2', 'DRD3', 'SCZD1', 'SCZD3', 'SCZD5', 'SCZD6', 'SCZD11', 'SCZD2',\n",
    "            'HTR2A', 'DAOA', 'AKT1', 'SCZD8', 'COMT', 'RTN4R', 'APOL4', 'APOL2']"
   ]
  },
  {
   "cell_type": "markdown",
   "metadata": {},
   "source": [
    "how many genes from curated list are in our top 1000 vs gwas top 1000"
   ]
  },
  {
   "cell_type": "code",
   "execution_count": 76,
   "metadata": {},
   "outputs": [],
   "source": [
    "def score_overlap(test, score, n_genes=1000):\n",
    "    genes = list(score[score.rank(ascending=False) <= n_genes].index)\n",
    "    overlap = set(genes).intersection(set(test))\n",
    "    print(len(overlap), 'genes overlap between target and top', n_genes, 'test genes')\n",
    "    return (len(overlap))\n",
    "\n",
    "def pull_harmonize_api(url):\n",
    "    import json\n",
    "    import requests\n",
    "    \n",
    "    json_file = json.loads(requests.get(url).text)['associations']\n",
    "    return [gene['gene']['symbol'] for gene in json_file]"
   ]
  },
  {
   "cell_type": "code",
   "execution_count": 77,
   "metadata": {},
   "outputs": [],
   "source": [
    "scz_harmonize = pull_harmonize_api(\n",
    "    'http://amp.pharm.mssm.edu/Harmonizome/api/1.0/gene_set/Schizophrenia/CTD+Gene-Disease+Associations')\n",
    "bpd_harmonize = pull_harmonize_api(\n",
    "    'http://amp.pharm.mssm.edu/Harmonizome/api/1.0/gene_set/Bipolar+Disorder/CTD+Gene-Disease+Associations')"
   ]
  },
  {
   "cell_type": "code",
   "execution_count": 67,
   "metadata": {},
   "outputs": [],
   "source": [
    "gwas_log10 = np.abs(np.log10(closest_pval))"
   ]
  },
  {
   "cell_type": "code",
   "execution_count": 145,
   "metadata": {
    "scrolled": true
   },
   "outputs": [
    {
     "name": "stdout",
     "output_type": "stream",
     "text": [
      "23 genes overlap between target and top 1000 test genes\n",
      "33 genes overlap between target and top 1000 test genes\n",
      "33 genes overlap between target and top 1000 test genes\n",
      "6 genes overlap between target and top 1000 test genes\n"
     ]
    }
   ],
   "source": [
    "scz_harm_scores = [score_overlap(scz_harmonize, gwas_log10),\n",
    "                   score_overlap(scz_harmonize, score_pcnet),\n",
    "                   score_overlap(scz_harmonize, score_pcnet_weighted),\n",
    "                   score_overlap(scz_harmonize, score_nwnet)]"
   ]
  },
  {
   "cell_type": "code",
   "execution_count": 146,
   "metadata": {},
   "outputs": [
    {
     "name": "stdout",
     "output_type": "stream",
     "text": [
      "29 genes overlap between target and top 1000 test genes\n",
      "55 genes overlap between target and top 1000 test genes\n",
      "46 genes overlap between target and top 1000 test genes\n",
      "8 genes overlap between target and top 1000 test genes\n"
     ]
    }
   ],
   "source": [
    "bpd_harm_scores = [score_overlap(bpd_harmonize, gwas_log10),\n",
    "                   score_overlap(bpd_harmonize, score_pcnet),\n",
    "                   score_overlap(bpd_harmonize, score_pcnet_weighted),\n",
    "                   score_overlap(bpd_harmonize, score_nwnet)]"
   ]
  },
  {
   "cell_type": "code",
   "execution_count": 157,
   "metadata": {},
   "outputs": [],
   "source": [
    "overlap_df = pd.DataFrame([scz_harm_scores, bpd_harm_scores],\n",
    "                          index=['scz_harmonizome', 'bipolar_harmonizome'],\n",
    "                          columns=['GWAS', 'PCNet', 'PCNet_weighted', 'GIANT']).T\n",
    "            "
   ]
  },
  {
   "cell_type": "code",
   "execution_count": 158,
   "metadata": {},
   "outputs": [
    {
     "data": {
      "text/html": [
       "<div>\n",
       "<table border=\"1\" class=\"dataframe\">\n",
       "  <thead>\n",
       "    <tr style=\"text-align: right;\">\n",
       "      <th></th>\n",
       "      <th>scz_harmonizome</th>\n",
       "      <th>bipolar_harmonizome</th>\n",
       "    </tr>\n",
       "  </thead>\n",
       "  <tbody>\n",
       "    <tr>\n",
       "      <th>GWAS</th>\n",
       "      <td>23</td>\n",
       "      <td>29</td>\n",
       "    </tr>\n",
       "    <tr>\n",
       "      <th>PCNet</th>\n",
       "      <td>33</td>\n",
       "      <td>55</td>\n",
       "    </tr>\n",
       "    <tr>\n",
       "      <th>PCNet_weighted</th>\n",
       "      <td>33</td>\n",
       "      <td>46</td>\n",
       "    </tr>\n",
       "    <tr>\n",
       "      <th>GIANT</th>\n",
       "      <td>6</td>\n",
       "      <td>8</td>\n",
       "    </tr>\n",
       "  </tbody>\n",
       "</table>\n",
       "</div>"
      ],
      "text/plain": [
       "                scz_harmonizome  bipolar_harmonizome\n",
       "GWAS                         23                   29\n",
       "PCNet                        33                   55\n",
       "PCNet_weighted               33                   46\n",
       "GIANT                         6                    8"
      ]
     },
     "execution_count": 158,
     "metadata": {},
     "output_type": "execute_result"
    }
   ],
   "source": [
    "overlap_df"
   ]
  },
  {
   "cell_type": "code",
   "execution_count": 169,
   "metadata": {},
   "outputs": [
    {
     "data": {
      "image/png": "[encoded data removed]",
      "text/plain": [
       "<matplotlib.figure.Figure at 0x7fc2751a3748>"
      ]
     },
     "metadata": {},
     "output_type": "display_data"
    }
   ],
   "source": [
    "N=2\n",
    "fig, ax = plt.subplots()\n",
    "ind = np.arange(N)\n",
    "width=0.15\n",
    "p1 = ax.bar(ind, overlap_df.loc['GWAS', :],\n",
    "            width, color='r')\n",
    "p2 = ax.bar(ind + width, overlap_df.loc['PCNet', :], width,\n",
    "            color='y')\n",
    "p3 = ax.bar(ind + 2*width, overlap_df.loc['PCNet_weighted', :], width,\n",
    "            color='b')\n",
    "p4 = ax.bar(ind + 3*width, overlap_df.loc['GIANT', :], width,\n",
    "            color='g')\n",
    "\n",
    "ax.set_title('Genes Recovered in Top 1000')\n",
    "ax.set_xticks(ind + width / 2)\n",
    "ax.set_xticklabels(('Schizophrenia Harmonizome', 'Bipolar Harmonizome'))\n",
    "\n",
    "ax.legend((p1[0], p2[0], p3[0], p4[0]),\n",
    "          ('GWAS', 'GWAP - PCNET', 'GWAP - P'))\n",
    "ax.yaxis.set_units(inch)\n",
    "ax.autoscale_view()"
   ]
  },
  {
   "cell_type": "code",
   "execution_count": null,
   "metadata": {},
   "outputs": [],
   "source": []
  }
 ],
 "metadata": {
  "kernelspec": {
   "display_name": "Python 3",
   "language": "python",
   "name": "python3"
  },
  "language_info": {
   "codemirror_mode": {
    "name": "ipython",
    "version": 3
   },
   "file_extension": ".py",
   "mimetype": "text/x-python",
   "name": "python",
   "nbconvert_exporter": "python",
   "pygments_lexer": "ipython3",
   "version": "3.6.0"
  }
 },
 "nbformat": 4,
 "nbformat_minor": 2
}
