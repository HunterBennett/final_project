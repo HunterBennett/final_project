{
 "cells": [
  {
   "cell_type": "code",
   "execution_count": 2,
   "metadata": {},
   "outputs": [],
   "source": [
    ".libPaths('/cellar/users/e5silva/anaconda3/envs/r3_3/lib/R/library/') \n",
    "library('rentrez')"
   ]
  },
  {
   "cell_type": "code",
   "execution_count": 3,
   "metadata": {},
   "outputs": [
    {
     "data": {
      "text/html": [
       "949"
      ],
      "text/latex": [
       "949"
      ],
      "text/markdown": [
       "949"
      ],
      "text/plain": [
       "[1] 949"
      ]
     },
     "metadata": {},
     "output_type": "display_data"
    },
    {
     "data": {
      "text/html": [
       "<ol class=list-inline>\n",
       "\t<li>'LINC00238'</li>\n",
       "\t<li>'ZNF295'</li>\n",
       "\t<li>'CHURC1-FNTB'</li>\n",
       "\t<li>'C2orf82'</li>\n",
       "\t<li>'P2RX5-TAX1BP3'</li>\n",
       "\t<li>'LOH12CR1'</li>\n",
       "\t<li>'C9orf156'</li>\n",
       "\t<li>'DPCR1'</li>\n",
       "\t<li>'AC138811.2'</li>\n",
       "\t<li>'OPN1MW3'</li>\n",
       "</ol>\n"
      ],
      "text/latex": [
       "\\begin{enumerate*}\n",
       "\\item 'LINC00238'\n",
       "\\item 'ZNF295'\n",
       "\\item 'CHURC1-FNTB'\n",
       "\\item 'C2orf82'\n",
       "\\item 'P2RX5-TAX1BP3'\n",
       "\\item 'LOH12CR1'\n",
       "\\item 'C9orf156'\n",
       "\\item 'DPCR1'\n",
       "\\item 'AC138811.2'\n",
       "\\item 'OPN1MW3'\n",
       "\\end{enumerate*}\n"
      ],
      "text/markdown": [
       "1. 'LINC00238'\n",
       "2. 'ZNF295'\n",
       "3. 'CHURC1-FNTB'\n",
       "4. 'C2orf82'\n",
       "5. 'P2RX5-TAX1BP3'\n",
       "6. 'LOH12CR1'\n",
       "7. 'C9orf156'\n",
       "8. 'DPCR1'\n",
       "9. 'AC138811.2'\n",
       "10. 'OPN1MW3'\n",
       "\n",
       "\n"
      ],
      "text/plain": [
       " [1] \"LINC00238\"     \"ZNF295\"        \"CHURC1-FNTB\"   \"C2orf82\"      \n",
       " [5] \"P2RX5-TAX1BP3\" \"LOH12CR1\"      \"C9orf156\"      \"DPCR1\"        \n",
       " [9] \"AC138811.2\"    \"OPN1MW3\"      "
      ]
     },
     "metadata": {},
     "output_type": "display_data"
    }
   ],
   "source": [
    "# import list\n",
    "not_there <- read.table('pc_not_there.txt', header=FALSE, stringsAsFactors=FALSE)\n",
    "dim(not_there)[1]\n",
    "not_there[1:10,1]"
   ]
  },
  {
   "cell_type": "code",
   "execution_count": null,
   "metadata": {},
   "outputs": [],
   "source": [
    "# testing getting out one record\n",
    "\n",
    "# first look up ENTREZ ID \n",
    "r_search <- entrez_search(db='gene', term=paste(not_there[2,1], 'AND human[ORGN]'))$ids\n",
    "r_search$ids\n",
    "\n",
    "r_search <- entrez_summary(db='gene', id=r_search$ids[2])\n",
    "test <- list()\n",
    "test <- c(test, r_search$otheraliases, r_search$name)\n",
    "test"
   ]
  },
  {
   "cell_type": "code",
   "execution_count": 4,
   "metadata": {},
   "outputs": [],
   "source": [
    "# if have one ID, add to table \n",
    "now_there <- data.frame(Old_ID=character(), New_ID=character(), stringsAsFactors=FALSE)\n",
    "\n",
    "for (i in c(1:949)) {\n",
    "    \n",
    "    # entrez search to find IDs associated with the supplied gene name in humans\n",
    "    r_search <- entrez_search(db='gene', term=paste(not_there[i,1], \"AND Homo sapiens[ORGN]\"))$ids\n",
    "    \n",
    "    # if successfully find ONE id, then search for the given HGNC ID and add to table\n",
    "    if (length(r_search) == 1) {\n",
    "        \n",
    "        tryCatch({\n",
    "        \n",
    "        r_search <- entrez_summary(db='gene', id=r_search)$name\n",
    "        \n",
    "        # add values to table\n",
    "        now_there[i,1] <- not_there[i,1]\n",
    "        now_there[i,2] <- r_search\n",
    "            \n",
    "            }, error = function(i) {return(NA)})\n",
    "        \n",
    "    }\n",
    "    \n",
    "    # if more than one ID\n",
    "    if (length(r_search) > 1) {\n",
    "        \n",
    "        # repeat search\n",
    "        r_search <- ''\n",
    "        r_search <- entrez_search(db='gene', term=paste(not_there[i,1], \"AND Homo sapiens[ORGN]\"))\n",
    "         \n",
    "        ids <- ''\n",
    "        ids <- r_search$ids\n",
    "        \n",
    "        # loop through IDs until find name or alias that matches query, then keep that name \n",
    "        test <- list()\n",
    "        \n",
    "        j=0\n",
    "        while ((j < length(ids))==TRUE & (toupper(not_there[i,1]) %in% toupper(test))==FALSE) {\n",
    "            \n",
    "        tryCatch({\n",
    "                        \n",
    "            # loop through IDs, add name and aliases\n",
    "            test <- list()\n",
    "            j = j+1\n",
    "            new_search <- ''\n",
    "            new_search <- entrez_summary(db='gene', id=ids[j])\n",
    "            test <- c(test, trimws(unlist(strsplit(new_search$name, ','))), trimws(unlist(strsplit(new_search$otheraliases,','))))            \n",
    "            }, error = function(i) {return(NA)})\n",
    "            \n",
    "        }            \n",
    "\n",
    "        \n",
    "        # add values to table\n",
    "        now_there[i,1] <- not_there[i,1]\n",
    "        now_there[i,2] <- new_search$name\n",
    "    } \n",
    "\n",
    "}\n"
   ]
  },
  {
   "cell_type": "code",
   "execution_count": 5,
   "metadata": {},
   "outputs": [
    {
     "data": {
      "text/html": [
       "<ol class=list-inline>\n",
       "\t<li>949</li>\n",
       "\t<li>2</li>\n",
       "</ol>\n"
      ],
      "text/latex": [
       "\\begin{enumerate*}\n",
       "\\item 949\n",
       "\\item 2\n",
       "\\end{enumerate*}\n"
      ],
      "text/markdown": [
       "1. 949\n",
       "2. 2\n",
       "\n",
       "\n"
      ],
      "text/plain": [
       "[1] 949   2"
      ]
     },
     "metadata": {},
     "output_type": "display_data"
    }
   ],
   "source": [
    "# check dims\n",
    "dim(now_there)"
   ]
  },
  {
   "cell_type": "code",
   "execution_count": 6,
   "metadata": {},
   "outputs": [
    {
     "data": {
      "text/html": [
       "<table>\n",
       "<thead><tr><th scope=col>Old_ID</th><th scope=col>New_ID</th></tr></thead>\n",
       "<tbody>\n",
       "\t<tr><td>LINC00238    </td><td>CCDC196      </td></tr>\n",
       "\t<tr><td>ZNF295       </td><td>ZBTB21       </td></tr>\n",
       "\t<tr><td>CHURC1-FNTB  </td><td>CHURC1-FNTB  </td></tr>\n",
       "\t<tr><td>C2orf82      </td><td>SNORC        </td></tr>\n",
       "\t<tr><td>P2RX5-TAX1BP3</td><td>P2RX5-TAX1BP3</td></tr>\n",
       "\t<tr><td>LOH12CR1     </td><td>BORCS5       </td></tr>\n",
       "\t<tr><td>C9orf156     </td><td>TRMO         </td></tr>\n",
       "\t<tr><td>DPCR1        </td><td>MUCL3        </td></tr>\n",
       "\t<tr><td>NA           </td><td>NA           </td></tr>\n",
       "\t<tr><td>OPN1MW3      </td><td>OPN1MW3      </td></tr>\n",
       "</tbody>\n",
       "</table>\n"
      ],
      "text/latex": [
       "\\begin{tabular}{r|ll}\n",
       " Old\\_ID & New\\_ID\\\\\n",
       "\\hline\n",
       "\t LINC00238     & CCDC196      \\\\\n",
       "\t ZNF295        & ZBTB21       \\\\\n",
       "\t CHURC1-FNTB   & CHURC1-FNTB  \\\\\n",
       "\t C2orf82       & SNORC        \\\\\n",
       "\t P2RX5-TAX1BP3 & P2RX5-TAX1BP3\\\\\n",
       "\t LOH12CR1      & BORCS5       \\\\\n",
       "\t C9orf156      & TRMO         \\\\\n",
       "\t DPCR1         & MUCL3        \\\\\n",
       "\t NA            & NA           \\\\\n",
       "\t OPN1MW3       & OPN1MW3      \\\\\n",
       "\\end{tabular}\n"
      ],
      "text/markdown": [
       "\n",
       "Old_ID | New_ID | \n",
       "|---|---|---|---|---|---|---|---|---|---|\n",
       "| LINC00238     | CCDC196       | \n",
       "| ZNF295        | ZBTB21        | \n",
       "| CHURC1-FNTB   | CHURC1-FNTB   | \n",
       "| C2orf82       | SNORC         | \n",
       "| P2RX5-TAX1BP3 | P2RX5-TAX1BP3 | \n",
       "| LOH12CR1      | BORCS5        | \n",
       "| C9orf156      | TRMO          | \n",
       "| DPCR1         | MUCL3         | \n",
       "| NA            | NA            | \n",
       "| OPN1MW3       | OPN1MW3       | \n",
       "\n",
       "\n"
      ],
      "text/plain": [
       "   Old_ID        New_ID       \n",
       "1  LINC00238     CCDC196      \n",
       "2  ZNF295        ZBTB21       \n",
       "3  CHURC1-FNTB   CHURC1-FNTB  \n",
       "4  C2orf82       SNORC        \n",
       "5  P2RX5-TAX1BP3 P2RX5-TAX1BP3\n",
       "6  LOH12CR1      BORCS5       \n",
       "7  C9orf156      TRMO         \n",
       "8  DPCR1         MUCL3        \n",
       "9  NA            NA           \n",
       "10 OPN1MW3       OPN1MW3      "
      ]
     },
     "metadata": {},
     "output_type": "display_data"
    }
   ],
   "source": [
    "# check table\n",
    "now_there[1:10,1:2]"
   ]
  },
  {
   "cell_type": "code",
   "execution_count": 7,
   "metadata": {},
   "outputs": [],
   "source": [
    "# save\n",
    "write.table(now_there, file = \"pc_now_there.csv\", row.names=FALSE, col.names=FALSE, na=\"\")"
   ]
  },
  {
   "cell_type": "code",
   "execution_count": null,
   "metadata": {},
   "outputs": [],
   "source": []
  },
  {
   "cell_type": "code",
   "execution_count": null,
   "metadata": {},
   "outputs": [],
   "source": [
    "i\n",
    "j\n",
    "length(ids)\n",
    "now_there[i,1]\n",
    "ids\n",
    "ids[j]\n",
    "\n",
    "new_search"
   ]
  }
 ],
 "metadata": {
  "kernelspec": {
   "display_name": "R",
   "language": "R",
   "name": "ir"
  },
  "language_info": {
   "codemirror_mode": "r",
   "file_extension": ".r",
   "mimetype": "text/x-r-source",
   "name": "R",
   "pygments_lexer": "r",
   "version": "3.4.3"
  }
 },
 "nbformat": 4,
 "nbformat_minor": 2
}
