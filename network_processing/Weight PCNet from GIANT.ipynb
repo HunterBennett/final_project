{
 "cells": [
  {
   "cell_type": "markdown",
   "metadata": {},
   "source": [
    "### Begin Weighting PCnet"
   ]
  },
  {
   "cell_type": "code",
   "execution_count": 1,
   "metadata": {},
   "outputs": [],
   "source": [
    "import pandas as pd\n",
    "import numpy as np\n",
    "import ndex2\n",
    "import networkx as nx\n",
    "import scipy.sparse"
   ]
  },
  {
   "cell_type": "markdown",
   "metadata": {},
   "source": [
    "#### Adjacency Matrix- GIANT"
   ]
  },
  {
   "cell_type": "code",
   "execution_count": null,
   "metadata": {},
   "outputs": [],
   "source": [
    "# read in nwnet (GIANT with HGNC) \n",
    "with open('nwnet', 'rb') as f:\n",
    "    nwnet = nx.read_gpickle(f)\n",
    "    \n",
    "f.close()"
   ]
  },
  {
   "cell_type": "code",
   "execution_count": 3,
   "metadata": {},
   "outputs": [],
   "source": [
    "# get dict of nodenames\n",
    "nw_nodedict = nx.get_node_attributes(nwnet, \"name\")\n",
    "# get list of node names\n",
    "nw_nodelist = list(nw_nodedict.values())"
   ]
  },
  {
   "cell_type": "code",
   "execution_count": 4,
   "metadata": {},
   "outputs": [],
   "source": [
    "# get attribute matrix for edges \n",
    "# supply node_dict for ordering\n",
    "nwnet_probs = nx.attr_matrix(nwnet, edge_attr='post_prob', normalized=False, rc_order=nw_nodedict)"
   ]
  },
  {
   "cell_type": "code",
   "execution_count": 5,
   "metadata": {},
   "outputs": [
    {
     "data": {
      "text/plain": [
       "numpy.matrixlib.defmatrix.matrix"
      ]
     },
     "execution_count": 5,
     "metadata": {},
     "output_type": "execute_result"
    }
   ],
   "source": [
    "# check type\n",
    "type(nwnet_probs)"
   ]
  },
  {
   "cell_type": "code",
   "execution_count": 6,
   "metadata": {},
   "outputs": [],
   "source": [
    "# redefine nwnet_probs as pandas dataframe with nodenames as the column and rownames\n",
    "nwnet_probs = pd.DataFrame(nwnet_probs, index=nw_nodelist,columns=nw_nodelist)"
   ]
  },
  {
   "cell_type": "code",
   "execution_count": 7,
   "metadata": {},
   "outputs": [
    {
     "data": {
      "text/html": [
       "<div>\n",
       "<style scoped>\n",
       "    .dataframe tbody tr th:only-of-type {\n",
       "        vertical-align: middle;\n",
       "    }\n",
       "\n",
       "    .dataframe tbody tr th {\n",
       "        vertical-align: top;\n",
       "    }\n",
       "\n",
       "    .dataframe thead th {\n",
       "        text-align: right;\n",
       "    }\n",
       "</style>\n",
       "<table border=\"1\" class=\"dataframe\">\n",
       "  <thead>\n",
       "    <tr style=\"text-align: right;\">\n",
       "      <th></th>\n",
       "      <th>A1BG</th>\n",
       "      <th>RNA28SN5</th>\n",
       "      <th>LINC02584</th>\n",
       "      <th>NR2E3</th>\n",
       "      <th>SNORD116-2</th>\n",
       "    </tr>\n",
       "  </thead>\n",
       "  <tbody>\n",
       "    <tr>\n",
       "      <th>A1BG</th>\n",
       "      <td>0.000000</td>\n",
       "      <td>0.101838</td>\n",
       "      <td>0.100589</td>\n",
       "      <td>0.103316</td>\n",
       "      <td>0.101577</td>\n",
       "    </tr>\n",
       "    <tr>\n",
       "      <th>RNA28SN5</th>\n",
       "      <td>0.101838</td>\n",
       "      <td>0.000000</td>\n",
       "      <td>0.000000</td>\n",
       "      <td>0.000000</td>\n",
       "      <td>0.000000</td>\n",
       "    </tr>\n",
       "    <tr>\n",
       "      <th>LINC02584</th>\n",
       "      <td>0.100589</td>\n",
       "      <td>0.000000</td>\n",
       "      <td>0.000000</td>\n",
       "      <td>0.000000</td>\n",
       "      <td>0.000000</td>\n",
       "    </tr>\n",
       "    <tr>\n",
       "      <th>NR2E3</th>\n",
       "      <td>0.103316</td>\n",
       "      <td>0.000000</td>\n",
       "      <td>0.000000</td>\n",
       "      <td>0.000000</td>\n",
       "      <td>0.000000</td>\n",
       "    </tr>\n",
       "    <tr>\n",
       "      <th>SNORD116-2</th>\n",
       "      <td>0.101577</td>\n",
       "      <td>0.000000</td>\n",
       "      <td>0.000000</td>\n",
       "      <td>0.000000</td>\n",
       "      <td>0.000000</td>\n",
       "    </tr>\n",
       "  </tbody>\n",
       "</table>\n",
       "</div>"
      ],
      "text/plain": [
       "                A1BG  RNA28SN5  LINC02584     NR2E3  SNORD116-2\n",
       "A1BG        0.000000  0.101838   0.100589  0.103316    0.101577\n",
       "RNA28SN5    0.101838  0.000000   0.000000  0.000000    0.000000\n",
       "LINC02584   0.100589  0.000000   0.000000  0.000000    0.000000\n",
       "NR2E3       0.103316  0.000000   0.000000  0.000000    0.000000\n",
       "SNORD116-2  0.101577  0.000000   0.000000  0.000000    0.000000"
      ]
     },
     "execution_count": 7,
     "metadata": {},
     "output_type": "execute_result"
    }
   ],
   "source": [
    "# check matrix\n",
    "nwnet_probs.iloc[0:5,0:5]\n",
    "# nwnet_probs[0:5,0:5]"
   ]
  },
  {
   "cell_type": "code",
   "execution_count": 10,
   "metadata": {},
   "outputs": [],
   "source": [
    "# no longer need nwnet\n",
    "del nwnet"
   ]
  },
  {
   "cell_type": "markdown",
   "metadata": {},
   "source": [
    "#### Adjacency Matrix- PCNet"
   ]
  },
  {
   "cell_type": "code",
   "execution_count": 11,
   "metadata": {},
   "outputs": [],
   "source": [
    "# read in nwnet (GIANT with HGNC) \n",
    "with open('pcnet', 'rb') as f:\n",
    "    pcnet = nx.read_gpickle(f)\n",
    "    \n",
    "f.close()"
   ]
  },
  {
   "cell_type": "code",
   "execution_count": 12,
   "metadata": {},
   "outputs": [
    {
     "data": {
      "text/plain": [
       "['RNF14', 'UBE2Q2', 'TMCO1', 'UBAC1']"
      ]
     },
     "execution_count": 12,
     "metadata": {},
     "output_type": "execute_result"
    }
   ],
   "source": [
    "# get new dict of nodenames\n",
    "pc_nodedict = nx.get_node_attributes(pcnet, \"name\")\n",
    "# get list of node names\n",
    "pc_nodelist = list(pc_nodedict.values())\n",
    "pc_nodelist[1:5]"
   ]
  },
  {
   "cell_type": "code",
   "execution_count": 13,
   "metadata": {},
   "outputs": [
    {
     "data": {
      "text/plain": [
       "877"
      ]
     },
     "execution_count": 13,
     "metadata": {},
     "output_type": "execute_result"
    }
   ],
   "source": [
    "# How many of PCnet nodes are NOT in GIANT\n",
    "pc_not_there = pd.DataFrame(list(set(pc_nodelist)-set(nw_nodelist)), index=None, columns=None)\n",
    "len(pc_not_there) \n",
    "# reduced from 949 to 877 "
   ]
  },
  {
   "cell_type": "code",
   "execution_count": 14,
   "metadata": {},
   "outputs": [],
   "source": [
    "# get attribute matrix for edges \n",
    "# supply node_dict for ordering\n",
    "pcnet_probs = nx.to_numpy_matrix(pcnet, nodelist=pc_nodelist)"
   ]
  },
  {
   "cell_type": "code",
   "execution_count": 15,
   "metadata": {},
   "outputs": [
    {
     "data": {
      "text/plain": [
       "numpy.matrixlib.defmatrix.matrix"
      ]
     },
     "execution_count": 15,
     "metadata": {},
     "output_type": "execute_result"
    }
   ],
   "source": [
    "# check type\n",
    "type(pcnet_probs)"
   ]
  },
  {
   "cell_type": "code",
   "execution_count": 16,
   "metadata": {},
   "outputs": [],
   "source": [
    "# redefine nwnet_probs as pandas dataframe with nodenames as the column and rownames\n",
    "pcnet_probs = pd.DataFrame(pcnet_probs, index=pc_nodelist,columns=pc_nodelist)"
   ]
  },
  {
   "cell_type": "code",
   "execution_count": 17,
   "metadata": {},
   "outputs": [
    {
     "data": {
      "text/html": [
       "<div>\n",
       "<style scoped>\n",
       "    .dataframe tbody tr th:only-of-type {\n",
       "        vertical-align: middle;\n",
       "    }\n",
       "\n",
       "    .dataframe tbody tr th {\n",
       "        vertical-align: top;\n",
       "    }\n",
       "\n",
       "    .dataframe thead th {\n",
       "        text-align: right;\n",
       "    }\n",
       "</style>\n",
       "<table border=\"1\" class=\"dataframe\">\n",
       "  <thead>\n",
       "    <tr style=\"text-align: right;\">\n",
       "      <th></th>\n",
       "      <th>UBE2Q1</th>\n",
       "      <th>RNF14</th>\n",
       "      <th>UBE2Q2</th>\n",
       "      <th>TMCO1</th>\n",
       "      <th>UBAC1</th>\n",
       "    </tr>\n",
       "  </thead>\n",
       "  <tbody>\n",
       "    <tr>\n",
       "      <th>UBE2Q1</th>\n",
       "      <td>0.0</td>\n",
       "      <td>1.0</td>\n",
       "      <td>1.0</td>\n",
       "      <td>1.0</td>\n",
       "      <td>1.0</td>\n",
       "    </tr>\n",
       "    <tr>\n",
       "      <th>RNF14</th>\n",
       "      <td>1.0</td>\n",
       "      <td>0.0</td>\n",
       "      <td>1.0</td>\n",
       "      <td>1.0</td>\n",
       "      <td>0.0</td>\n",
       "    </tr>\n",
       "    <tr>\n",
       "      <th>UBE2Q2</th>\n",
       "      <td>1.0</td>\n",
       "      <td>1.0</td>\n",
       "      <td>0.0</td>\n",
       "      <td>0.0</td>\n",
       "      <td>1.0</td>\n",
       "    </tr>\n",
       "    <tr>\n",
       "      <th>TMCO1</th>\n",
       "      <td>1.0</td>\n",
       "      <td>1.0</td>\n",
       "      <td>0.0</td>\n",
       "      <td>0.0</td>\n",
       "      <td>0.0</td>\n",
       "    </tr>\n",
       "    <tr>\n",
       "      <th>UBAC1</th>\n",
       "      <td>1.0</td>\n",
       "      <td>0.0</td>\n",
       "      <td>1.0</td>\n",
       "      <td>0.0</td>\n",
       "      <td>0.0</td>\n",
       "    </tr>\n",
       "  </tbody>\n",
       "</table>\n",
       "</div>"
      ],
      "text/plain": [
       "        UBE2Q1  RNF14  UBE2Q2  TMCO1  UBAC1\n",
       "UBE2Q1     0.0    1.0     1.0    1.0    1.0\n",
       "RNF14      1.0    0.0     1.0    1.0    0.0\n",
       "UBE2Q2     1.0    1.0     0.0    0.0    1.0\n",
       "TMCO1      1.0    1.0     0.0    0.0    0.0\n",
       "UBAC1      1.0    0.0     1.0    0.0    0.0"
      ]
     },
     "execution_count": 17,
     "metadata": {},
     "output_type": "execute_result"
    }
   ],
   "source": [
    "# check matrix\n",
    "pcnet_probs.iloc[0:5,0:5]\n",
    "# pcnet_probs[0:5,0:5]"
   ]
  },
  {
   "cell_type": "markdown",
   "metadata": {},
   "source": [
    "#### Find Common Edges"
   ]
  },
  {
   "cell_type": "code",
   "execution_count": 18,
   "metadata": {
    "scrolled": true
   },
   "outputs": [],
   "source": [
    "# these are the genes we are skipping by getting the unique set from nw_nodelist\n",
    "dups = [n for n in nw_nodelist if nw_nodelist.count(n) >1]"
   ]
  },
  {
   "cell_type": "code",
   "execution_count": 19,
   "metadata": {},
   "outputs": [],
   "source": [
    "# find nw singles\n",
    "nw_nodelist_singles = list(set(nw_nodelist)-set(dups))"
   ]
  },
  {
   "cell_type": "code",
   "execution_count": 20,
   "metadata": {},
   "outputs": [
    {
     "data": {
      "text/plain": [
       "18408"
      ]
     },
     "execution_count": 20,
     "metadata": {},
     "output_type": "execute_result"
    }
   ],
   "source": [
    "# Which of unique NWnet nodes are in PCNet \n",
    "common = list(set(np.unique(nw_nodelist_singles)).intersection(set(pc_nodelist)))\n",
    "len(common)"
   ]
  },
  {
   "cell_type": "code",
   "execution_count": 21,
   "metadata": {},
   "outputs": [
    {
     "data": {
      "text/plain": [
       "18422"
      ]
     },
     "execution_count": 21,
     "metadata": {},
     "output_type": "execute_result"
    }
   ],
   "source": [
    "# this is how many we *should* have, so we are missing 14 due to ignoring GIANT's dups \n",
    "len(pc_nodelist)-877"
   ]
  },
  {
   "cell_type": "code",
   "execution_count": 22,
   "metadata": {},
   "outputs": [
    {
     "data": {
      "text/plain": [
       "(18408, 18408)"
      ]
     },
     "execution_count": 22,
     "metadata": {},
     "output_type": "execute_result"
    }
   ],
   "source": [
    "# Subset probability matrices to only have common edges and check shape\n",
    "pcnet_probs_ss = pcnet_probs.loc[common,common]\n",
    "pcnet_probs_ss.shape"
   ]
  },
  {
   "cell_type": "code",
   "execution_count": 23,
   "metadata": {},
   "outputs": [],
   "source": [
    "# convert pcnet matrices to sparse (overwrite)\n",
    "pcnet_probs_ss = scipy.sparse.csr_matrix(pcnet_probs_ss.values)\n",
    "pcnet_probs = scipy.sparse.csr_matrix(pcnet_probs.values)"
   ]
  },
  {
   "cell_type": "code",
   "execution_count": 24,
   "metadata": {},
   "outputs": [
    {
     "data": {
      "text/plain": [
       "(18408, 18408)"
      ]
     },
     "execution_count": 24,
     "metadata": {},
     "output_type": "execute_result"
    }
   ],
   "source": [
    "# Subset probability matrices to only have common edges and check shape\n",
    "nwnet_probs_ss = nwnet_probs.loc[common,common]\n",
    "nwnet_probs_ss.shape"
   ]
  },
  {
   "cell_type": "code",
   "execution_count": 25,
   "metadata": {},
   "outputs": [],
   "source": [
    "# convert nwnet probs matrices to sparse (overwrite)\n",
    "nwnet_probs_ss = scipy.sparse.csr_matrix(nwnet_probs_ss.values)\n",
    "nwnet_probs = scipy.sparse.csr_matrix(nwnet_probs.values)"
   ]
  },
  {
   "cell_type": "code",
   "execution_count": 26,
   "metadata": {},
   "outputs": [
    {
     "data": {
      "text/plain": [
       "dtype('float64')"
      ]
     },
     "execution_count": 26,
     "metadata": {},
     "output_type": "execute_result"
    }
   ],
   "source": [
    "nwnet_probs.data.dtype"
   ]
  },
  {
   "cell_type": "code",
   "execution_count": 27,
   "metadata": {},
   "outputs": [],
   "source": [
    "# find coordinates of nonzero data in inter \n",
    "# (i.e. the common edge matrix)\n",
    "x, y = pcnet_probs_ss.nonzero()\n",
    "x = x.tolist() # create list\n",
    "y = y.tolist() # create list"
   ]
  },
  {
   "cell_type": "code",
   "execution_count": 28,
   "metadata": {},
   "outputs": [],
   "source": [
    "# instead of coordinates, find corresponding index (nodenames)\n",
    "x_names = [common[i] for i in x]\n",
    "y_names = [common[i] for i in y]"
   ]
  },
  {
   "cell_type": "code",
   "execution_count": 59,
   "metadata": {},
   "outputs": [
    {
     "data": {
      "text/plain": [
       "('DCP1A', 'LSM3')"
      ]
     },
     "execution_count": 59,
     "metadata": {},
     "output_type": "execute_result"
    }
   ],
   "source": [
    "# create tuple of nodenames for edges in nwnet\n",
    "coordinates = list(zip(x_names,y_names))\n",
    "coordinates[0]"
   ]
  },
  {
   "cell_type": "code",
   "execution_count": 30,
   "metadata": {
    "scrolled": true
   },
   "outputs": [
    {
     "data": {
      "text/plain": [
       "((5101988, 1), 5101988, 5101988)"
      ]
     },
     "execution_count": 30,
     "metadata": {},
     "output_type": "execute_result"
    }
   ],
   "source": [
    "# get corresponding data (nwnet probabilities) for these coordinates \n",
    "dat = nwnet_probs_ss[x,y].T\n",
    "\n",
    "# check shape\n",
    "dat.shape, len(x), len(y)"
   ]
  },
  {
   "cell_type": "code",
   "execution_count": null,
   "metadata": {},
   "outputs": [],
   "source": [
    "# will any edge weights be updated to > 0.1? \n",
    "any([x > 0.1 for x in dat])"
   ]
  },
  {
   "cell_type": "code",
   "execution_count": null,
   "metadata": {},
   "outputs": [],
   "source": [
    "# will any edge be updated to < 0.1? \n",
    "any([x < 0.1 for x in dat]) \n",
    "# there shouldnt be any- these must be the edges that are in pcnet but not giant- so get rid of these "
   ]
  },
  {
   "cell_type": "code",
   "execution_count": 31,
   "metadata": {},
   "outputs": [],
   "source": [
    "dat_list = np.array(dat).ravel().tolist()"
   ]
  },
  {
   "cell_type": "code",
   "execution_count": 83,
   "metadata": {},
   "outputs": [
    {
     "data": {
      "text/plain": [
       "([11, 20, 21, 22], 2850532)"
      ]
     },
     "execution_count": 83,
     "metadata": {},
     "output_type": "execute_result"
    }
   ],
   "source": [
    "# find where dat_list (the data from GIANT) is greater than or equal to 0.1\n",
    "# these are the edges we will update\n",
    "dat_i = np.array([int(x >= 0.1) for x in dat_list]).nonzero()[0].tolist()\n",
    "dat_i[1:5], len(dat_i)"
   ]
  },
  {
   "cell_type": "code",
   "execution_count": 84,
   "metadata": {},
   "outputs": [],
   "source": [
    "# create a dict for these edges and the corresponding weights\n",
    "# this dict contains all edges in GIANT \n",
    "update_prob = dict(zip([coordinates[i] for i in dat_i], [dat_list[i] for i in dat_i]))"
   ]
  },
  {
   "cell_type": "code",
   "execution_count": 85,
   "metadata": {},
   "outputs": [
    {
     "data": {
      "text/plain": [
       "2850532"
      ]
     },
     "execution_count": 85,
     "metadata": {},
     "output_type": "execute_result"
    }
   ],
   "source": [
    "len(update_prob)"
   ]
  },
  {
   "cell_type": "code",
   "execution_count": null,
   "metadata": {},
   "outputs": [],
   "source": [
    "# # create a dict for these edges and the corresponding weights\n",
    "# # this dict contains all edges in GIANT \n",
    "# update_prob = dict(zip(coordinates, dat_list))"
   ]
  },
  {
   "cell_type": "code",
   "execution_count": 86,
   "metadata": {},
   "outputs": [],
   "source": [
    "for i in update_prob.values(): \n",
    "    if not isinstance(i,float): \n",
    "        print(i)\n",
    "        break"
   ]
  },
  {
   "cell_type": "code",
   "execution_count": 87,
   "metadata": {},
   "outputs": [
    {
     "data": {
      "text/plain": [
       "(dict, 5101988, 2850532)"
      ]
     },
     "execution_count": 87,
     "metadata": {},
     "output_type": "execute_result"
    }
   ],
   "source": [
    "type(update_prob), len(pcnet_probs_ss.nonzero()[0]), len(list(update_prob.values()))"
   ]
  },
  {
   "cell_type": "code",
   "execution_count": 88,
   "metadata": {},
   "outputs": [
    {
     "data": {
      "text/plain": [
       "<networkx.classes.graph.Graph at 0x7f9f967170f0>"
      ]
     },
     "execution_count": 88,
     "metadata": {},
     "output_type": "execute_result"
    }
   ],
   "source": [
    "# rename pcnet nodes so that can reference nodes by node names\n",
    "nx.relabel_nodes(pcnet, pc_nodedict)"
   ]
  },
  {
   "cell_type": "code",
   "execution_count": 89,
   "metadata": {},
   "outputs": [
    {
     "data": {
      "text/plain": [
       "['RNF14', 'UBE2Q2', 'TMCO1', 'UBAC1']"
      ]
     },
     "execution_count": 89,
     "metadata": {},
     "output_type": "execute_result"
    }
   ],
   "source": [
    "# check\n",
    "list(pcnet.nodes())[1:5]"
   ]
  },
  {
   "cell_type": "code",
   "execution_count": 90,
   "metadata": {},
   "outputs": [],
   "source": [
    "# update weights with 0.1\n",
    "nx.set_edge_attributes(pcnet, 'p', 0.1)"
   ]
  },
  {
   "cell_type": "code",
   "execution_count": 91,
   "metadata": {},
   "outputs": [],
   "source": [
    "# update weights with giant\n",
    "nx.set_edge_attributes(pcnet, 'p', update_prob)"
   ]
  },
  {
   "cell_type": "code",
   "execution_count": 92,
   "metadata": {},
   "outputs": [],
   "source": [
    "# check distribution of edge weights\n",
    "probs = nx.get_edge_attributes(pcnet, 'p').values()"
   ]
  },
  {
   "cell_type": "code",
   "execution_count": 93,
   "metadata": {},
   "outputs": [],
   "source": [
    "probs = list(probs)"
   ]
  },
  {
   "cell_type": "code",
   "execution_count": 94,
   "metadata": {},
   "outputs": [],
   "source": [
    "for i in probs: \n",
    "    if not isinstance(i, float):\n",
    "        print(i)\n",
    "        break"
   ]
  },
  {
   "cell_type": "code",
   "execution_count": 95,
   "metadata": {},
   "outputs": [
    {
     "data": {
      "text/plain": [
       "[0.119148, 0.216301, 0.196628, 0.1, 0.140354]"
      ]
     },
     "execution_count": 95,
     "metadata": {},
     "output_type": "execute_result"
    }
   ],
   "source": [
    "probs[0:5]"
   ]
  },
  {
   "cell_type": "code",
   "execution_count": 96,
   "metadata": {},
   "outputs": [],
   "source": [
    "import matplotlib.pyplot as plt "
   ]
  },
  {
   "cell_type": "code",
   "execution_count": 97,
   "metadata": {},
   "outputs": [
    {
     "data": {
      "image/png": "[encoded data removed]",
      "text/plain": [
       "<matplotlib.figure.Figure at 0x7fa0efe0bf60>"
      ]
     },
     "metadata": {},
     "output_type": "display_data"
    }
   ],
   "source": [
    "ax = plt.subplot()\n",
    "plt.hist(probs, bins=30, range=[0,0.8], alpha=0.6, linestyle='solid')\n",
    "plt.title('Edge Weights in PCNet')\n",
    "plt.xlabel('Probability')\n",
    "plt.ylabel('Frequency')\n",
    "ax.spines['right'].set_visible(False)\n",
    "ax.spines['top'].set_visible(False)"
   ]
  },
  {
   "cell_type": "code",
   "execution_count": 98,
   "metadata": {},
   "outputs": [
    {
     "data": {
      "image/png": "[encoded data removed]",
      "text/plain": [
       "<matplotlib.figure.Figure at 0x7fa0efe0b518>"
      ]
     },
     "metadata": {},
     "output_type": "display_data"
    }
   ],
   "source": [
    "ax = plt.subplot()\n",
    "plt.hist(probs, bins=1000, range=[0,0.8], alpha=0.6, linestyle='solid', cumulative=True, density=True)\n",
    "plt.title('Edge Weights in PCNet')\n",
    "plt.xlabel('Probability')\n",
    "plt.ylabel('Frequency')\n",
    "ax.spines['right'].set_visible(False)\n",
    "ax.spines['top'].set_visible(False)"
   ]
  },
  {
   "cell_type": "code",
   "execution_count": 99,
   "metadata": {},
   "outputs": [],
   "source": [
    "# write pcnet (weighted) \n",
    "with open('pcnet_wt', 'wb') as f:\n",
    "    nx.write_gpickle(pcnet, f)\n",
    "    \n",
    "f.close()"
   ]
  },
  {
   "cell_type": "markdown",
   "metadata": {},
   "source": [
    "### Look at network Characteristics "
   ]
  },
  {
   "cell_type": "code",
   "execution_count": null,
   "metadata": {},
   "outputs": [],
   "source": [
    "len(nw_nodelist)"
   ]
  },
  {
   "cell_type": "code",
   "execution_count": null,
   "metadata": {},
   "outputs": [],
   "source": [
    "len(list(nwnet.edges()))"
   ]
  },
  {
   "cell_type": "code",
   "execution_count": null,
   "metadata": {},
   "outputs": [],
   "source": [
    "# check distribution of edge weights\n",
    "probs = nx.get_edge_attributes(nwnet, 'post_prob')"
   ]
  },
  {
   "cell_type": "code",
   "execution_count": null,
   "metadata": {},
   "outputs": [],
   "source": [
    "# check distribution of edge weights\n",
    "probs = probs.values()"
   ]
  },
  {
   "cell_type": "code",
   "execution_count": null,
   "metadata": {},
   "outputs": [],
   "source": [
    "probs = list(probs)"
   ]
  },
  {
   "cell_type": "code",
   "execution_count": null,
   "metadata": {},
   "outputs": [],
   "source": [
    "import matplotlib.pyplot as plt "
   ]
  },
  {
   "cell_type": "code",
   "execution_count": null,
   "metadata": {},
   "outputs": [],
   "source": [
    "ax = plt.subplot()\n",
    "plt.hist(probs, bins=30, range=[0,0.8], alpha=0.6, linestyle='solid')\n",
    "plt.title('Edge Weights in PCNet')\n",
    "plt.xlabel('Probability')\n",
    "plt.ylabel('Frequency')\n",
    "ax.spines['right'].set_visible(False)\n",
    "ax.spines['top'].set_visible(False)"
   ]
  },
  {
   "cell_type": "code",
   "execution_count": null,
   "metadata": {},
   "outputs": [],
   "source": [
    "ax = plt.subplot()\n",
    "plt.hist(probs, bins=1000, range=[0,0.8], alpha=0.6, linestyle='solid', cumulative=True, density=True)\n",
    "plt.title('Edge Weights in PCNet')\n",
    "plt.xlabel('Probability')\n",
    "plt.ylabel('Frequency')\n",
    "ax.spines['right'].set_visible(False)\n",
    "ax.spines['top'].set_visible(False)"
   ]
  },
  {
   "cell_type": "code",
   "execution_count": null,
   "metadata": {},
   "outputs": [],
   "source": [
    "del nwnet_probs_ss\n",
    "del nwnet_probs"
   ]
  },
  {
   "cell_type": "code",
   "execution_count": null,
   "metadata": {},
   "outputs": [],
   "source": [
    "pcnet_common = pcnet.subgraph(common)"
   ]
  },
  {
   "cell_type": "code",
   "execution_count": null,
   "metadata": {},
   "outputs": [],
   "source": [
    "len(list(pcnet_common.edges()))"
   ]
  },
  {
   "cell_type": "code",
   "execution_count": null,
   "metadata": {},
   "outputs": [],
   "source": [
    "len(list(pcnet.edges()))"
   ]
  },
  {
   "cell_type": "code",
   "execution_count": null,
   "metadata": {},
   "outputs": [],
   "source": [
    "# read in nwnet (GIANT with HGNC) \n",
    "with open('pcnet_wt', 'rb') as f:\n",
    "    pcnet = nx.read_gpickle(f)\n",
    "    \n",
    "f.close()"
   ]
  },
  {
   "cell_type": "code",
   "execution_count": null,
   "metadata": {},
   "outputs": [],
   "source": [
    "# check distribution of edge weights\n",
    "probs = nx.get_edge_attributes(pcnet, 'p').values()"
   ]
  },
  {
   "cell_type": "code",
   "execution_count": null,
   "metadata": {},
   "outputs": [],
   "source": [
    "probs = list(probs)"
   ]
  },
  {
   "cell_type": "code",
   "execution_count": null,
   "metadata": {},
   "outputs": [],
   "source": [
    "# are any probs less than 0.1? \n",
    "any([x > 0.1 for x in probs])"
   ]
  },
  {
   "cell_type": "code",
   "execution_count": null,
   "metadata": {},
   "outputs": [],
   "source": [
    "# read in nwnet (GIANT with HGNC) \n",
    "with open('nwnet', 'rb') as f:\n",
    "    nwnet = nx.read_gpickle(f)\n",
    "    \n",
    "f.close()"
   ]
  },
  {
   "cell_type": "code",
   "execution_count": null,
   "metadata": {},
   "outputs": [],
   "source": [
    "# get list of node names\n",
    "nw_nodelist = list(nwnet.nodes())\n",
    "# get list of node names\n",
    "pc_nodelist = list(pcnet.nodes())"
   ]
  },
  {
   "cell_type": "code",
   "execution_count": null,
   "metadata": {},
   "outputs": [],
   "source": [
    "# Get Dups and Common List \n",
    "dups = [n for n in nw_nodelist if nw_nodelist.count(n) >1]\n",
    "nw_nodelist_singles = list(set(nw_nodelist)-set(dups))\n",
    "common = list(set(np.unique(nw_nodelist_singles)).intersection(set(pc_nodelist)))"
   ]
  },
  {
   "cell_type": "code",
   "execution_count": null,
   "metadata": {},
   "outputs": [],
   "source": [
    "# How many edges in PCNet versus PCNet Common\n",
    "len(list(nx.edges(pcnet)))"
   ]
  },
  {
   "cell_type": "code",
   "execution_count": null,
   "metadata": {},
   "outputs": [],
   "source": []
  },
  {
   "cell_type": "code",
   "execution_count": null,
   "metadata": {},
   "outputs": [],
   "source": []
  }
 ],
 "metadata": {
  "kernelspec": {
   "display_name": "Python 3",
   "language": "python",
   "name": "python3"
  },
  "language_info": {
   "codemirror_mode": {
    "name": "ipython",
    "version": 3
   },
   "file_extension": ".py",
   "mimetype": "text/x-python",
   "name": "python",
   "nbconvert_exporter": "python",
   "pygments_lexer": "ipython3",
   "version": "3.6.4"
  }
 },
 "nbformat": 4,
 "nbformat_minor": 2
}
