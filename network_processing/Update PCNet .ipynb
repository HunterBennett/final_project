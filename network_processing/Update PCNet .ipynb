{
 "cells": [
  {
   "cell_type": "markdown",
   "metadata": {},
   "source": [
    "### Begin Weighting PCnet"
   ]
  },
  {
   "cell_type": "code",
   "execution_count": 1,
   "metadata": {},
   "outputs": [],
   "source": [
    "import pandas as pd\n",
    "import numpy as np\n",
    "import ndex2\n",
    "import networkx as nx\n",
    "import scipy.sparse"
   ]
  },
  {
   "cell_type": "markdown",
   "metadata": {},
   "source": [
    "#### Adjacency Matrix- GIANT"
   ]
  },
  {
   "cell_type": "code",
   "execution_count": 2,
   "metadata": {},
   "outputs": [],
   "source": [
    "# read in nwnet (GIANT with HGNC) \n",
    "with open('nwnet', 'rb') as f:\n",
    "    nwnet = nx.read_gpickle(f)\n",
    "    \n",
    "f.close()"
   ]
  },
  {
   "cell_type": "code",
   "execution_count": 3,
   "metadata": {},
   "outputs": [],
   "source": [
    "# get dict of nodenames\n",
    "nw_nodedict = nx.get_node_attributes(nwnet, \"name\")\n",
    "# get list of node names\n",
    "nw_nodelist = list(nw_nodedict.values())"
   ]
  },
  {
   "cell_type": "markdown",
   "metadata": {},
   "source": [
    "#### Update PC Net"
   ]
  },
  {
   "cell_type": "code",
   "execution_count": 5,
   "metadata": {},
   "outputs": [],
   "source": [
    "# import PCnet using ndex\n",
    "niceCx = ndex2.create_nice_cx_from_server(server='http://ndexbio.org',\n",
    "                                         username='scratch',\n",
    "                                         password='scratch',\n",
    "                                         uuid='f93f402c-86d4-11e7-a10d-0ac135e8bacf')\n",
    "# make PCnet to networkX\n",
    "pcnet = niceCx.to_networkx()"
   ]
  },
  {
   "cell_type": "code",
   "execution_count": 6,
   "metadata": {},
   "outputs": [],
   "source": [
    "# get dict of nodenames\n",
    "pc_nodedict = nx.get_node_attributes(pcnet, \"name\")\n",
    "# get list of node names\n",
    "pc_nodelist = list(pc_nodedict.values())"
   ]
  },
  {
   "cell_type": "code",
   "execution_count": 7,
   "metadata": {},
   "outputs": [
    {
     "data": {
      "text/plain": [
       "949"
      ]
     },
     "execution_count": 7,
     "metadata": {},
     "output_type": "execute_result"
    }
   ],
   "source": [
    "# How many of PCnet nodes are NOT in GIANT\n",
    "pc_not_there = pd.DataFrame(list(set(pc_nodelist)-set(nw_nodelist)), index=None, columns=None)\n",
    "len(pc_not_there)"
   ]
  },
  {
   "cell_type": "code",
   "execution_count": 8,
   "metadata": {},
   "outputs": [],
   "source": [
    "# save the not_there list to check ncbi for any updated IDs \n",
    "# (the network is 1 year old, so there may have neen changes.)\n",
    "\n",
    "with open('pc_not_there.txt', 'w') as f:\n",
    "    pc_not_there.to_csv(f, sep='\\n',header=False, index=False)\n",
    "    \n",
    "f.close()"
   ]
  },
  {
   "cell_type": "code",
   "execution_count": 9,
   "metadata": {},
   "outputs": [
    {
     "data": {
      "text/html": [
       "<div>\n",
       "<style scoped>\n",
       "    .dataframe tbody tr th:only-of-type {\n",
       "        vertical-align: middle;\n",
       "    }\n",
       "\n",
       "    .dataframe tbody tr th {\n",
       "        vertical-align: top;\n",
       "    }\n",
       "\n",
       "    .dataframe thead th {\n",
       "        text-align: right;\n",
       "    }\n",
       "</style>\n",
       "<table border=\"1\" class=\"dataframe\">\n",
       "  <thead>\n",
       "    <tr style=\"text-align: right;\">\n",
       "      <th></th>\n",
       "      <th>0</th>\n",
       "      <th>1</th>\n",
       "    </tr>\n",
       "  </thead>\n",
       "  <tbody>\n",
       "    <tr>\n",
       "      <th>0</th>\n",
       "      <td>LINC00238</td>\n",
       "      <td>CCDC196</td>\n",
       "    </tr>\n",
       "    <tr>\n",
       "      <th>1</th>\n",
       "      <td>ZNF295</td>\n",
       "      <td>ZBTB21</td>\n",
       "    </tr>\n",
       "    <tr>\n",
       "      <th>2</th>\n",
       "      <td>CHURC1-FNTB</td>\n",
       "      <td>CHURC1-FNTB</td>\n",
       "    </tr>\n",
       "  </tbody>\n",
       "</table>\n",
       "</div>"
      ],
      "text/plain": [
       "             0            1\n",
       "0    LINC00238      CCDC196\n",
       "1       ZNF295       ZBTB21\n",
       "2  CHURC1-FNTB  CHURC1-FNTB"
      ]
     },
     "execution_count": 9,
     "metadata": {},
     "output_type": "execute_result"
    }
   ],
   "source": [
    "# used rentrez in R to generate the following file (see notebook) \n",
    "# to update Old HGNC ID to New HGNC ID for each of the not_there genes.\n",
    "\n",
    "# upload file\n",
    "with open('pc_now_there.csv', 'r') as f:\n",
    "    pc_now_there = pd.read_csv(f, sep=' ', header=None)\n",
    "    \n",
    "f.close()\n",
    "\n",
    "# check file\n",
    "pc_now_there.iloc[0:3,:]"
   ]
  },
  {
   "cell_type": "code",
   "execution_count": 10,
   "metadata": {},
   "outputs": [
    {
     "data": {
      "text/plain": [
       "844"
      ]
     },
     "execution_count": 10,
     "metadata": {},
     "output_type": "execute_result"
    }
   ],
   "source": [
    "# make dict with these ids\n",
    "h_en = {}\n",
    "\n",
    "# start adding to dict\n",
    "for line in range(0,len(pc_now_there)):\n",
    "    h_en[str(pc_now_there.iloc[line,0])] = pc_now_there.iloc[line,1]\n",
    "        \n",
    "f.close()\n",
    "len(list(h_en.keys()))"
   ]
  },
  {
   "cell_type": "code",
   "execution_count": 11,
   "metadata": {},
   "outputs": [],
   "source": [
    "# make node dict to save current node keys\n",
    "pc_nodeids = dict(zip(list(nx.nodes(pcnet)), list(nx.nodes(pcnet))))\n",
    "\n",
    "# make node attribute\n",
    "nx.set_node_attributes(pcnet, 'id', pc_nodeids) \n",
    "\n",
    "# rename nodes with current names\n",
    "pcnet = nx.relabel_nodes(pcnet, pc_nodedict)"
   ]
  },
  {
   "cell_type": "code",
   "execution_count": 12,
   "metadata": {},
   "outputs": [],
   "source": [
    "# update node names with node names that are now there\n",
    "pcnet = nx.relabel_nodes(pcnet, h_en)"
   ]
  },
  {
   "cell_type": "code",
   "execution_count": 13,
   "metadata": {},
   "outputs": [
    {
     "data": {
      "text/plain": [
       "<networkx.classes.graph.Graph at 0x7fbbfa18fe10>"
      ]
     },
     "execution_count": 13,
     "metadata": {},
     "output_type": "execute_result"
    }
   ],
   "source": [
    "# convert node names to numners, store current node names as attribute \"name\"\n",
    "nx.convert_node_labels_to_integers(pcnet, first_label=1, ordering='default', label_attribute='name')"
   ]
  },
  {
   "cell_type": "code",
   "execution_count": 14,
   "metadata": {},
   "outputs": [],
   "source": [
    "# write pcnet (updated HGNC) \n",
    "with open('pcnet', 'wb') as f:\n",
    "    nx.write_gpickle(pcnet, f)\n",
    "    \n",
    "f.close()"
   ]
  }
 ],
 "metadata": {
  "kernelspec": {
   "display_name": "Python 3",
   "language": "python",
   "name": "python3"
  },
  "language_info": {
   "codemirror_mode": {
    "name": "ipython",
    "version": 3
   },
   "file_extension": ".py",
   "mimetype": "text/x-python",
   "name": "python",
   "nbconvert_exporter": "python",
   "pygments_lexer": "ipython3",
   "version": "3.6.4"
  }
 },
 "nbformat": 4,
 "nbformat_minor": 2
}
